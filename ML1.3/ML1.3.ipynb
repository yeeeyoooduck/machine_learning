{
 "cells": [
  {
   "cell_type": "code",
   "execution_count": 5,
   "id": "initial_id",
   "metadata": {
    "collapsed": true,
    "ExecuteTime": {
     "end_time": "2023-12-12T22:11:38.038701Z",
     "start_time": "2023-12-12T22:11:37.950701600Z"
    }
   },
   "outputs": [],
   "source": [
    "import matplotlib.pyplot as plt \n",
    "import pandas as pd\n",
    "from sklearn.linear_model import LinearRegression\n",
    "from sklearn.preprocessing import PolynomialFeatures\n",
    "from sklearn.datasets import fetch_california_housing\n",
    "from sklearn.svm import SVR\n",
    "from sklearn.neighbors import KNeighborsRegressor\n",
    "from sklearn.neural_network import MLPRegressor\n",
    "from sklearn.tree import DecisionTreeRegressor\n",
    "from sklearn.model_selection import train_test_split\n",
    "from sklearn.metrics import mean_squared_error, r2_score\n",
    "from sklearn.datasets import load_diabetes\n",
    "import numpy as np"
   ]
  },
  {
   "cell_type": "markdown",
   "source": [
    "Загрузка датасета"
   ],
   "metadata": {
    "collapsed": false
   },
   "id": "ea836f5ec8fc7dae"
  },
  {
   "cell_type": "code",
   "execution_count": 6,
   "outputs": [],
   "source": [
    "california = fetch_california_housing()"
   ],
   "metadata": {
    "collapsed": false,
    "ExecuteTime": {
     "end_time": "2023-12-12T22:11:38.146700300Z",
     "start_time": "2023-12-12T22:11:37.975702Z"
    }
   },
   "id": "9cb9ad774daec7cc"
  },
  {
   "cell_type": "markdown",
   "source": [
    "Здесь датасет California housing преобразуется в объект типа DataFrame из библиотеки pandas. Добавляется столбец 'Price', содержащий целевую переменную, а затем выводятся первые несколько строк датафрейма с помощью метода head()."
   ],
   "metadata": {
    "collapsed": false
   },
   "id": "1be33df8e155ae3c"
  },
  {
   "cell_type": "code",
   "execution_count": 7,
   "outputs": [
    {
     "data": {
      "text/plain": "   MedInc  HouseAge  AveRooms  AveBedrms  Population  AveOccup  Latitude  \\\n0  8.3252      41.0  6.984127   1.023810       322.0  2.555556     37.88   \n1  8.3014      21.0  6.238137   0.971880      2401.0  2.109842     37.86   \n2  7.2574      52.0  8.288136   1.073446       496.0  2.802260     37.85   \n3  5.6431      52.0  5.817352   1.073059       558.0  2.547945     37.85   \n4  3.8462      52.0  6.281853   1.081081       565.0  2.181467     37.85   \n\n   Longitude  Price  \n0    -122.23  4.526  \n1    -122.22  3.585  \n2    -122.24  3.521  \n3    -122.25  3.413  \n4    -122.25  3.422  ",
      "text/html": "<div>\n<style scoped>\n    .dataframe tbody tr th:only-of-type {\n        vertical-align: middle;\n    }\n\n    .dataframe tbody tr th {\n        vertical-align: top;\n    }\n\n    .dataframe thead th {\n        text-align: right;\n    }\n</style>\n<table border=\"1\" class=\"dataframe\">\n  <thead>\n    <tr style=\"text-align: right;\">\n      <th></th>\n      <th>MedInc</th>\n      <th>HouseAge</th>\n      <th>AveRooms</th>\n      <th>AveBedrms</th>\n      <th>Population</th>\n      <th>AveOccup</th>\n      <th>Latitude</th>\n      <th>Longitude</th>\n      <th>Price</th>\n    </tr>\n  </thead>\n  <tbody>\n    <tr>\n      <th>0</th>\n      <td>8.3252</td>\n      <td>41.0</td>\n      <td>6.984127</td>\n      <td>1.023810</td>\n      <td>322.0</td>\n      <td>2.555556</td>\n      <td>37.88</td>\n      <td>-122.23</td>\n      <td>4.526</td>\n    </tr>\n    <tr>\n      <th>1</th>\n      <td>8.3014</td>\n      <td>21.0</td>\n      <td>6.238137</td>\n      <td>0.971880</td>\n      <td>2401.0</td>\n      <td>2.109842</td>\n      <td>37.86</td>\n      <td>-122.22</td>\n      <td>3.585</td>\n    </tr>\n    <tr>\n      <th>2</th>\n      <td>7.2574</td>\n      <td>52.0</td>\n      <td>8.288136</td>\n      <td>1.073446</td>\n      <td>496.0</td>\n      <td>2.802260</td>\n      <td>37.85</td>\n      <td>-122.24</td>\n      <td>3.521</td>\n    </tr>\n    <tr>\n      <th>3</th>\n      <td>5.6431</td>\n      <td>52.0</td>\n      <td>5.817352</td>\n      <td>1.073059</td>\n      <td>558.0</td>\n      <td>2.547945</td>\n      <td>37.85</td>\n      <td>-122.25</td>\n      <td>3.413</td>\n    </tr>\n    <tr>\n      <th>4</th>\n      <td>3.8462</td>\n      <td>52.0</td>\n      <td>6.281853</td>\n      <td>1.081081</td>\n      <td>565.0</td>\n      <td>2.181467</td>\n      <td>37.85</td>\n      <td>-122.25</td>\n      <td>3.422</td>\n    </tr>\n  </tbody>\n</table>\n</div>"
     },
     "execution_count": 7,
     "metadata": {},
     "output_type": "execute_result"
    }
   ],
   "source": [
    "# Преобразование датасета в датафрейм\n",
    "data = pd.DataFrame(california.data, columns = california.feature_names)\n",
    "data['Price'] = california.target\n",
    "data.head()"
   ],
   "metadata": {
    "collapsed": false,
    "ExecuteTime": {
     "end_time": "2023-12-12T22:11:38.186701700Z",
     "start_time": "2023-12-12T22:11:38.012702600Z"
    }
   },
   "id": "fce81a7a169c3bcf"
  },
  {
   "cell_type": "markdown",
   "source": [
    "Здесь формируются два датасета: price содержит целевую переменную, а data_without_price - признаки без целевой переменной. Затем создается объект модели линейной регрессии (LinearRegression), обучается на данных с помощью метода fit, и выводятся коэффициенты регрессии."
   ],
   "metadata": {
    "collapsed": false
   },
   "id": "71903098627a417a"
  },
  {
   "cell_type": "code",
   "execution_count": 8,
   "outputs": [
    {
     "name": "stdout",
     "output_type": "stream",
     "text": [
      "Коэффициент: \n",
      " [ 4.36693293e-01  9.43577803e-03 -1.07322041e-01  6.45065694e-01\n",
      " -3.97638942e-06 -3.78654265e-03 -4.21314378e-01 -4.34513755e-01]\n"
     ]
    }
   ],
   "source": [
    "price = data['Price']\n",
    "data_without_price = data.drop('Price', axis=1)\n",
    "\n",
    "model = LinearRegression()\n",
    "model.fit(data_without_price, price)\n",
    "\n",
    "print(\"Коэффициент: \\n\", model.coef_)"
   ],
   "metadata": {
    "collapsed": false,
    "ExecuteTime": {
     "end_time": "2023-12-12T22:11:38.194700900Z",
     "start_time": "2023-12-12T22:11:38.041701200Z"
    }
   },
   "id": "f2dd94a248185965"
  },
  {
   "cell_type": "markdown",
   "source": [
    "Здесь предсказанные значения цен помещаются в price_predict, затем строится график рассеяния (scatter plot) для визуализации предсказанных значений в сравнении с реальными значениями. Красная линия представляет идеальное соответствие предсказанных и реальных значений."
   ],
   "metadata": {
    "collapsed": false
   },
   "id": "182522a31d6350d5"
  },
  {
   "cell_type": "code",
   "execution_count": 9,
   "outputs": [
    {
     "data": {
      "text/plain": "[<matplotlib.lines.Line2D at 0x1b98def10a0>]"
     },
     "execution_count": 9,
     "metadata": {},
     "output_type": "execute_result"
    },
    {
     "data": {
      "text/plain": "<Figure size 640x480 with 1 Axes>",
      "image/png": "[encoded data removed]"
     },
     "metadata": {},
     "output_type": "display_data"
    }
   ],
   "source": [
    "price_predict = model.predict(data_without_price)\n",
    "plt.scatter(price_predict, price)\n",
    "plt.plot(price, price, c='r')"
   ],
   "metadata": {
    "collapsed": false,
    "ExecuteTime": {
     "end_time": "2023-12-12T22:11:38.531700500Z",
     "start_time": "2023-12-12T22:11:38.075700600Z"
    }
   },
   "id": "8a5d6b6574c20a97"
  },
  {
   "cell_type": "markdown",
   "source": [
    "Здесь создается полиномиальное преобразование признаков пятой степени с использованием PolynomialFeatures. Затем модель линейной регрессии обучается на преобразованных данных. Последние две строки создают предсказания и вычисляют коэффициент детерминации (R^2) для полиномиальной модели."
   ],
   "metadata": {
    "collapsed": false
   },
   "id": "8fbd036eacf786f1"
  },
  {
   "cell_type": "code",
   "execution_count": 10,
   "outputs": [
    {
     "data": {
      "text/plain": "0.7011196487580906"
     },
     "execution_count": 10,
     "metadata": {},
     "output_type": "execute_result"
    }
   ],
   "source": [
    "poly = PolynomialFeatures(5).fit_transform(data_without_price)\n",
    "polynomial = LinearRegression()\n",
    "polynomial.fit(poly, price)\n",
    "data_without_price_poly = polynomial.predict(poly)\n",
    "polynomial.score(poly, price)"
   ],
   "metadata": {
    "collapsed": false,
    "ExecuteTime": {
     "end_time": "2023-12-12T22:11:49.514702200Z",
     "start_time": "2023-12-12T22:11:38.505706Z"
    }
   },
   "id": "26f5892f5439196c"
  },
  {
   "cell_type": "markdown",
   "source": [
    "### Какую еще информацию можно вывести для обученной модели? Попробуйте изменить аргументы при создании модели и посмотрите, как это влияет на качество предсказания."
   ],
   "metadata": {
    "collapsed": false
   },
   "id": "442d939dd0a7e89"
  },
  {
   "cell_type": "code",
   "execution_count": 11,
   "outputs": [
    {
     "data": {
      "text/plain": "Text(0, 0.5, 'Остатки')"
     },
     "execution_count": 11,
     "metadata": {},
     "output_type": "execute_result"
    },
    {
     "data": {
      "text/plain": "<Figure size 640x480 with 1 Axes>",
      "image/png": "[encoded data removed]"
     },
     "metadata": {},
     "output_type": "display_data"
    }
   ],
   "source": [
    "residuals = price - data_without_price_poly\n",
    "plt.scatter(price, residuals)\n",
    "plt.axhline(y=0, color='r', linestyle='--')\n",
    "plt.title('График остатков')\n",
    "plt.xlabel('Фактическая цена')\n",
    "plt.ylabel('Остатки')"
   ],
   "metadata": {
    "collapsed": false,
    "ExecuteTime": {
     "end_time": "2023-12-12T22:11:50.066702900Z",
     "start_time": "2023-12-12T22:11:49.515701700Z"
    }
   },
   "id": "829a3601c138c21"
  },
  {
   "cell_type": "markdown",
   "source": [
    "### Попробуйте применить к той же задаче другие модели регрессии. Для каждой из них выведите визуализацию регрессии и оценку точности. Рекомендуется исследовать следующие модели:\n",
    "1. Метод опорных векторов\n",
    "1.1 Без ядра\n",
    "1.2 С гауссовым ядром\n",
    "1.3 С полиномиальным ядром\n",
    "2. Метод ближайших соседей\n",
    "3. Многослойный перцептрон\n",
    "4. Дерево решений"
   ],
   "metadata": {
    "collapsed": false
   },
   "id": "c007a610e0002742"
  },
  {
   "cell_type": "code",
   "execution_count": null,
   "outputs": [],
   "source": [
    "# Метод опорных векторов (SVM) без ядра\n",
    "svm_linear = SVR(kernel='linear')\n",
    "svm_linear.fit(data_without_price, price)\n",
    "\n",
    "# Метод опорных векторов (SVM) с гауссовым ядром\n",
    "svm_rbf = SVR(kernel='rbf')\n",
    "svm_rbf.fit(data_without_price, price)\n",
    "\n",
    "# Метод опорных векторов (SVM) с полиномиальным ядром\n",
    "svm_poly = SVR(kernel='poly')\n",
    "svm_poly.fit(data_without_price, price)\n",
    "\n",
    "# Метод ближайших соседей (KNN)\n",
    "knn = KNeighborsRegressor(n_neighbors=5)\n",
    "knn.fit(data_without_price, price)\n",
    "\n",
    "# Многослойный перцептрон (MLP)\n",
    "mlp = MLPRegressor(hidden_layer_sizes=(100,), max_iter=1000)\n",
    "mlp.fit(data_without_price, price)\n",
    "\n",
    "# Дерево решений\n",
    "tree = DecisionTreeRegressor()\n",
    "tree.fit(data_without_price, price)\n"
   ],
   "metadata": {
    "collapsed": false
   },
   "id": "fee06d8075727a88"
  },
  {
   "cell_type": "code",
   "execution_count": null,
   "outputs": [],
   "source": [
    "# Визуализация регрессии для SVM без ядра\n",
    "price_predict_svm_linear = svm_linear.predict(data_without_price)\n",
    "plt.scatter(price_predict_svm_linear, price)\n",
    "plt.plot(price, price, c='r')\n",
    "plt.title('SVM (Linear) Regression')\n",
    "plt.xlabel('Predicted Price')\n",
    "plt.ylabel('Actual Price')\n",
    "plt.show()\n",
    "\n",
    "# Оценка точности для SVM без ядра\n",
    "mse_svm_linear = mean_squared_error(price, price_predict_svm_linear)\n",
    "r2_svm_linear = r2_score(price, price_predict_svm_linear)\n",
    "print(f'MSE for SVM (Linear): {mse_svm_linear}')\n",
    "print(f'R^2 for SVM (Linear): {r2_svm_linear}')\n"
   ],
   "metadata": {
    "collapsed": false
   },
   "id": "bd8443d4ba9d6308"
  },
  {
   "cell_type": "markdown",
   "source": [
    "### Напишите функцию, которая автоматически обучает все перечисленные модели и для каждой выдает оценку точности."
   ],
   "metadata": {
    "collapsed": false
   },
   "id": "e044016444576153"
  },
  {
   "cell_type": "code",
   "execution_count": null,
   "outputs": [],
   "source": [
    "def train_and_evaluate_models(X, y):\n",
    "    # Разделение данных на обучающий и тестовый наборы\n",
    "    X_train, X_test, y_train, y_test = train_test_split(X, y, test_size=0.2, random_state=42)\n",
    "\n",
    "    # Словарь для хранения результатов\n",
    "    results = {}\n",
    "\n",
    "    # Линейная регрессия\n",
    "    linear_model = LinearRegression()\n",
    "    linear_model.fit(X_train, y_train)\n",
    "    linear_predictions = linear_model.predict(X_test)\n",
    "    results['Linear Regression'] = {\n",
    "        'MSE': mean_squared_error(y_test, linear_predictions),\n",
    "        'R^2': r2_score(y_test, linear_predictions)\n",
    "    }\n",
    "\n",
    "    # Метод опорных векторов (SVM) без ядра\n",
    "    svm_linear = SVR(kernel='linear')\n",
    "    svm_linear.fit(X_train, y_train)\n",
    "    svm_linear_predictions = svm_linear.predict(X_test)\n",
    "    results['SVM (Linear)'] = {\n",
    "        'MSE': mean_squared_error(y_test, svm_linear_predictions),\n",
    "        'R^2': r2_score(y_test, svm_linear_predictions)\n",
    "    }\n",
    "\n",
    "    # Метод опорных векторов (SVM) с гауссовым ядром\n",
    "    svm_rbf = SVR(kernel='rbf')\n",
    "    svm_rbf.fit(X_train, y_train)\n",
    "    svm_rbf_predictions = svm_rbf.predict(X_test)\n",
    "    results['SVM (RBF)'] = {\n",
    "        'MSE': mean_squared_error(y_test, svm_rbf_predictions),\n",
    "        'R^2': r2_score(y_test, svm_rbf_predictions)\n",
    "    }\n",
    "\n",
    "    # Метод ближайших соседей (KNN)\n",
    "    knn = KNeighborsRegressor(n_neighbors=5)\n",
    "    knn.fit(X_train, y_train)\n",
    "    knn_predictions = knn.predict(X_test)\n",
    "    results['KNN'] = {\n",
    "        'MSE': mean_squared_error(y_test, knn_predictions),\n",
    "        'R^2': r2_score(y_test, knn_predictions)\n",
    "    }\n",
    "\n",
    "    # Многослойный перцептрон (MLP)\n",
    "    mlp = MLPRegressor(hidden_layer_sizes=(100,), max_iter=1000)\n",
    "    mlp.fit(X_train, y_train)\n",
    "    mlp_predictions = mlp.predict(X_test)\n",
    "    results['MLP'] = {\n",
    "        'MSE': mean_squared_error(y_test, mlp_predictions),\n",
    "        'R^2': r2_score(y_test, mlp_predictions)\n",
    "    }\n",
    "\n",
    "    # Дерево решений\n",
    "    tree = DecisionTreeRegressor()\n",
    "    tree.fit(X_train, y_train)\n",
    "    tree_predictions = tree.predict(X_test)\n",
    "    results['Decision Tree'] = {\n",
    "        'MSE': mean_squared_error(y_test, tree_predictions),\n",
    "        'R^2': r2_score(y_test, tree_predictions)\n",
    "    }\n",
    "\n",
    "    return results\n",
    "\n",
    "# Использование функции\n",
    "results = train_and_evaluate_models(data_without_price, price)\n",
    "\n",
    "# Вывод результатов\n",
    "for model, metrics in results.items():\n",
    "    print(f\"{model}:\")\n",
    "    print(f\"  MSE: {metrics['MSE']}\")\n",
    "    print(f\"  R^2: {metrics['R^2']}\")\n",
    "    print()\n"
   ],
   "metadata": {
    "collapsed": false
   },
   "id": "b9069d9234f755b2"
  },
  {
   "cell_type": "markdown",
   "source": [
    "### Повторите полностью анализ для другого набора данных - встроенного в sklearn датасета diabetes."
   ],
   "metadata": {
    "collapsed": false
   },
   "id": "707612841f26f6dc"
  },
  {
   "cell_type": "code",
   "execution_count": null,
   "outputs": [],
   "source": [
    "# Загрузка датасета diabetes\n",
    "diabetes = load_diabetes()\n",
    "data_diabetes = pd.DataFrame(diabetes.data, columns=diabetes.feature_names)\n",
    "target_diabetes = diabetes.target\n",
    "\n",
    "# Обучение модели линейной регрессии\n",
    "model_diabetes = LinearRegression()\n",
    "model_diabetes.fit(data_diabetes, target_diabetes)\n",
    "print(\"Коэффициенты регрессии: \\n\", model_diabetes.coef_)\n",
    "\n",
    "# Визуализация регрессии\n",
    "price_predict_diabetes = model_diabetes.predict(data_diabetes)\n",
    "plt.scatter(price_predict_diabetes, target_diabetes)\n",
    "plt.plot(target_diabetes, target_diabetes, c='r')\n",
    "plt.title('Linear Regression for Diabetes')\n",
    "plt.xlabel('Predicted Diabetes Progression')\n",
    "plt.ylabel('Actual Diabetes Progression')\n",
    "plt.show()\n",
    "\n",
    "# Создание полиномиальных признаков\n",
    "poly_diabetes = PolynomialFeatures(5).fit_transform(data_diabetes)\n",
    "polynomial_diabetes = LinearRegression()\n",
    "polynomial_diabetes.fit(poly_diabetes, target_diabetes)\n",
    "data_diabetes_poly = polynomial_diabetes.predict(poly_diabetes)\n",
    "\n",
    "# Оценка остатков\n",
    "residuals_diabetes = target_diabetes - data_diabetes_poly\n",
    "plt.scatter(target_diabetes, residuals_diabetes)\n",
    "plt.axhline(y=0, color='r', linestyle='--')\n",
    "plt.title('Residuals Plot for Diabetes')\n",
    "plt.xlabel('Actual Diabetes Progression')\n",
    "plt.ylabel('Residuals')\n",
    "plt.show()\n",
    "\n",
    "# Обучение и оценка других моделей регрессии\n",
    "def train_and_evaluate_models(X, y):\n",
    "    X_train, X_test, y_train, y_test = train_test_split(X, y, test_size=0.2, random_state=42)\n",
    "    results = {}\n",
    "\n",
    "    # Линейная регрессия\n",
    "    linear_model = LinearRegression()\n",
    "    linear_model.fit(X_train, y_train)\n",
    "    linear_predictions = linear_model.predict(X_test)\n",
    "    results['Linear Regression'] = {\n",
    "        'MSE': mean_squared_error(y_test, linear_predictions),\n",
    "        'R^2': r2_score(y_test, linear_predictions)\n",
    "    }\n",
    "\n",
    "    # Метод опорных векторов (SVM) без ядра\n",
    "    svm_linear = SVR(kernel='linear')\n",
    "    svm_linear.fit(X_train, y_train)\n",
    "    svm_linear_predictions = svm_linear.predict(X_test)\n",
    "    results['SVM (Linear)'] = {\n",
    "        'MSE': mean_squared_error(y_test, svm_linear_predictions),\n",
    "        'R^2': r2_score(y_test, svm_linear_predictions)\n",
    "    }\n",
    "\n",
    "    # Метод опорных векторов (SVM) с гауссовым ядром\n",
    "    svm_rbf = SVR(kernel='rbf')\n",
    "    svm_rbf.fit(X_train, y_train)\n",
    "    svm_rbf_predictions = svm_rbf.predict(X_test)\n",
    "    results['SVM (RBF)'] = {\n",
    "        'MSE': mean_squared_error(y_test, svm_rbf_predictions),\n",
    "        'R^2': r2_score(y_test, svm_rbf_predictions)\n",
    "    }\n",
    "\n",
    "    # Метод ближайших соседей (KNN)\n",
    "    knn = KNeighborsRegressor(n_neighbors=5)\n",
    "    knn.fit(X_train, y_train)\n",
    "    knn_predictions = knn.predict(X_test)\n",
    "    results['KNN'] = {\n",
    "        'MSE': mean_squared_error(y_test, knn_predictions),\n",
    "        'R^2': r2_score(y_test, knn_predictions)\n",
    "    }\n",
    "\n",
    "    # Многослойный перцептрон (MLP)\n",
    "    mlp = MLPRegressor(hidden_layer_sizes=(100,), max_iter=1000)\n",
    "    mlp.fit(X_train, y_train)\n",
    "    mlp_predictions = mlp.predict(X_test)\n",
    "    results['MLP'] = {\n",
    "        'MSE': mean_squared_error(y_test, mlp_predictions),\n",
    "        'R^2': r2_score(y_test, mlp_predictions)\n",
    "    }\n",
    "\n",
    "    # Дерево решений\n",
    "    tree = DecisionTreeRegressor()\n",
    "    tree.fit(X_train, y_train)\n",
    "    tree_predictions = tree.predict(X_test)\n",
    "    results['Decision Tree'] = {\n",
    "        'MSE': mean_squared_error(y_test, tree_predictions),\n",
    "        'R^2': r2_score(y_test, tree_predictions)\n",
    "    }\n",
    "\n",
    "    return results\n",
    "\n",
    "# Использование функции\n",
    "results_diabetes = train_and_evaluate_models(data_diabetes, target_diabetes)\n",
    "\n",
    "# Вывод результатов\n",
    "for model, metrics in results_diabetes.items():\n",
    "    print(f\"{model}:\")\n",
    "    print(f\"  MSE: {metrics['MSE']}\")\n",
    "    print(f\"  R^2: {metrics['R^2']}\")\n",
    "    print()"
   ],
   "metadata": {
    "collapsed": false
   },
   "id": "25c6070c41187c"
  }
 ],
 "metadata": {
  "kernelspec": {
   "display_name": "Python 3",
   "language": "python",
   "name": "python3"
  },
  "language_info": {
   "codemirror_mode": {
    "name": "ipython",
    "version": 2
   },
   "file_extension": ".py",
   "mimetype": "text/x-python",
   "name": "python",
   "nbconvert_exporter": "python",
   "pygments_lexer": "ipython2",
   "version": "2.7.6"
  }
 },
 "nbformat": 4,
 "nbformat_minor": 5
}
