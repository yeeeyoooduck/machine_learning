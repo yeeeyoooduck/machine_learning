{
 "cells": [
  {
   "metadata": {
    "ExecuteTime": {
     "end_time": "2024-04-26T10:12:26.474890Z",
     "start_time": "2024-04-26T10:12:24.681290Z"
    }
   },
   "cell_type": "code",
   "source": [
    "import numpy as np\n",
    "import pandas as pd\n",
    "from sklearn.datasets import make_classification\n",
    "from sklearn.model_selection import train_test_split\n",
    "from sklearn.metrics import accuracy_score, f1_score\n",
    "from sklearn.linear_model import ElasticNet\n",
    "from sklearn.model_selection import GridSearchCV"
   ],
   "id": "b1b0595e3683050b",
   "outputs": [],
   "execution_count": 1
  },
  {
   "metadata": {},
   "cell_type": "markdown",
   "source": "1. Сгенерировать датасет для задачи бинарной классификации с использованием функции make_classification.",
   "id": "2c5d2498a902bccc"
  },
  {
   "cell_type": "code",
   "id": "initial_id",
   "metadata": {
    "collapsed": true,
    "ExecuteTime": {
     "end_time": "2024-04-26T10:12:26.504798Z",
     "start_time": "2024-04-26T10:12:26.479924Z"
    }
   },
   "source": [
    "X, y = make_classification(n_samples=1000, n_features=20, n_classes=2, random_state=42)\n",
    "\n",
    "# Разделение на обучающий и тестовый наборы данных\n",
    "X_train, X_test, y_train, y_test = train_test_split(X, y, test_size=0.2, random_state=42)"
   ],
   "outputs": [],
   "execution_count": 2
  },
  {
   "metadata": {},
   "cell_type": "markdown",
   "source": "2. Построить и оценить качество различных моделей классификации, используя метрики accuracy и F1-score.",
   "id": "59810fc08856d9fc"
  },
  {
   "metadata": {
    "ExecuteTime": {
     "end_time": "2024-04-26T10:12:26.670941Z",
     "start_time": "2024-04-26T10:12:26.506663Z"
    }
   },
   "cell_type": "code",
   "source": [
    "# 1. Логистическая регрессия\n",
    "from sklearn.linear_model import LogisticRegression\n",
    "logreg = LogisticRegression()\n",
    "logreg.fit(X_train, y_train)\n",
    "y_pred_logreg = logreg.predict(X_test)\n",
    "\n",
    "# Оценка качества\n",
    "accuracy_logreg = accuracy_score(y_test, y_pred_logreg)\n",
    "f1_logreg = f1_score(y_test, y_pred_logreg)\n",
    "\n",
    "# 2. Метод опорных векторов\n",
    "from sklearn.svm import SVC\n",
    "svc = SVC()\n",
    "svc.fit(X_train, y_train)\n",
    "y_pred_svc = svc.predict(X_test)\n",
    "\n",
    "# Оценка качества\n",
    "accuracy_svc = accuracy_score(y_test, y_pred_svc)\n",
    "f1_svc = f1_score(y_test, y_pred_svc)\n",
    "\n",
    "print(\"Логистическая регрессия:\")\n",
    "print(\"Accuracy:\", accuracy_logreg)\n",
    "print(\"F1-score:\", f1_logreg)\n",
    "\n",
    "print(\"\\nМетод опорных векторов:\")\n",
    "print(\"Accuracy:\", accuracy_svc)\n",
    "print(\"F1-score:\", f1_svc)"
   ],
   "id": "91765947571c8200",
   "outputs": [
    {
     "name": "stdout",
     "output_type": "stream",
     "text": [
      "Логистическая регрессия:\n",
      "Accuracy: 0.855\n",
      "F1-score: 0.8557213930348259\n",
      "\n",
      "Метод опорных векторов:\n",
      "Accuracy: 0.845\n",
      "F1-score: 0.8472906403940886\n"
     ]
    }
   ],
   "execution_count": 3
  },
  {
   "metadata": {},
   "cell_type": "markdown",
   "source": "3. Построить модель elasticnet на данных прогнозирования продаж.",
   "id": "f5c4c691d2280f9c"
  },
  {
   "metadata": {
    "ExecuteTime": {
     "end_time": "2024-04-26T10:13:29.100446Z",
     "start_time": "2024-04-26T10:13:29.083385Z"
    }
   },
   "cell_type": "code",
   "source": [
    "sales_model = ElasticNet(alpha=0.1, l1_ratio=0.5)\n",
    "sales_model.fit(X_train, y_train)\n",
    "\n",
    "# Выведем коэффициенты модели ElasticNet\n",
    "coefficients = sales_model.coef_\n",
    "intercept = sales_model.intercept_\n",
    "\n",
    "print(\"Коэффициенты модели ElasticNet:\")\n",
    "print(coefficients)\n",
    "print(\"\\nПерехват (intercept):\", intercept)"
   ],
   "id": "e8ce931eccc259c2",
   "outputs": [
    {
     "name": "stdout",
     "output_type": "stream",
     "text": [
      "Коэффициенты модели ElasticNet:\n",
      "[ 0.         -0.          0.          0.         -0.          0.22316812\n",
      " -0.         -0.         -0.          0.          0.          0.\n",
      "  0.          0.         -0.          0.          0.         -0.\n",
      " -0.          0.        ]\n",
      "\n",
      "Перехват (intercept): 0.49816906272337735\n"
     ]
    }
   ],
   "execution_count": 6
  },
  {
   "metadata": {},
   "cell_type": "markdown",
   "source": "4. Оптимизировать гиперпараметры данной модели с помощью поиска по сетке.",
   "id": "b3d5bf70f5252915"
  },
  {
   "metadata": {
    "ExecuteTime": {
     "end_time": "2024-04-26T10:12:27.208061Z",
     "start_time": "2024-04-26T10:12:26.698287Z"
    }
   },
   "cell_type": "code",
   "source": [
    "param_grid = {'alpha': [0.1, 1, 10],\n",
    "              'l1_ratio': [0.1, 0.5, 0.9]}\n",
    "\n",
    "grid_search = GridSearchCV(estimator=ElasticNet(), param_grid=param_grid, cv=5)\n",
    "grid_search.fit(X_train, y_train)\n",
    "\n",
    "best_params = grid_search.best_params_\n",
    "best_model = grid_search.best_estimator_\n",
    "\n",
    "print(\"Лучшие гиперпараметры:\", best_params)"
   ],
   "id": "e2a71bf437c67e2c",
   "outputs": [
    {
     "name": "stdout",
     "output_type": "stream",
     "text": [
      "Лучшие гиперпараметры: {'alpha': 0.1, 'l1_ratio': 0.1}\n"
     ]
    }
   ],
   "execution_count": 5
  }
 ],
 "metadata": {
  "kernelspec": {
   "display_name": "Python 3",
   "language": "python",
   "name": "python3"
  },
  "language_info": {
   "codemirror_mode": {
    "name": "ipython",
    "version": 2
   },
   "file_extension": ".py",
   "mimetype": "text/x-python",
   "name": "python",
   "nbconvert_exporter": "python",
   "pygments_lexer": "ipython2",
   "version": "2.7.6"
  }
 },
 "nbformat": 4,
 "nbformat_minor": 5
}
