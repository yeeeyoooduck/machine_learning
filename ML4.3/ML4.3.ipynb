{
 "cells": [
  {
   "metadata": {},
   "cell_type": "markdown",
   "source": "1. Загрузите датасет ирисы Фишера из библиотеки sklearn.datasets.\n",
   "id": "44746db268a1ca07"
  },
  {
   "cell_type": "code",
   "id": "initial_id",
   "metadata": {
    "collapsed": true,
    "ExecuteTime": {
     "end_time": "2024-04-26T09:41:20.533994Z",
     "start_time": "2024-04-26T09:41:20.513382Z"
    }
   },
   "source": [
    "from sklearn.datasets import load_iris\n",
    "\n",
    "# Загрузка датасета\n",
    "iris = load_iris()\n",
    "X, y = iris.data, iris.target\n",
    "\n",
    "print(\"Размерности признаков X:\", X.shape)\n",
    "print(\"Размерности меток y:\", y.shape)\n"
   ],
   "outputs": [
    {
     "name": "stdout",
     "output_type": "stream",
     "text": [
      "Размерности признаков X: (150, 4)\n",
      "Размерности меток y: (150,)\n"
     ]
    }
   ],
   "execution_count": 26
  },
  {
   "metadata": {},
   "cell_type": "markdown",
   "source": "2. Сделайте hold-out разбиение данных. Для этого разделите данные на обучающую и валидационную выборки и выведите на экран соответствующие индексы разбиения.",
   "id": "63628b7dc18f8452"
  },
  {
   "metadata": {
    "ExecuteTime": {
     "end_time": "2024-04-26T09:41:20.827765Z",
     "start_time": "2024-04-26T09:41:20.814859Z"
    }
   },
   "cell_type": "code",
   "source": [
    "from sklearn.model_selection import train_test_split\n",
    "\n",
    "# Разделение данных на обучающую и валидационную выборки (80% - 20%)\n",
    "X_train, X_val, y_train, y_val = train_test_split(X, y, test_size=0.2, random_state=42)\n",
    "\n",
    "print(\"Индексы обучающей выборки:\", X_train.shape[0])\n",
    "print(\"Индексы валидационной выборки:\", X_val.shape[0])\n"
   ],
   "id": "fcdce5af5af6e8c",
   "outputs": [
    {
     "name": "stdout",
     "output_type": "stream",
     "text": [
      "Индексы обучающей выборки: 120\n",
      "Индексы валидационной выборки: 30\n"
     ]
    }
   ],
   "execution_count": 27
  },
  {
   "metadata": {},
   "cell_type": "markdown",
   "source": "3. Теперь сделайте разбиение перемешанных данных, зафиксировав воспроизводимость выбора данных после перемешивания, указав значение параметра random_state=42 и выведите на экран соответствующие индексы разбиения.",
   "id": "9494a7d8cadf921"
  },
  {
   "metadata": {
    "ExecuteTime": {
     "end_time": "2024-04-26T09:41:20.913715Z",
     "start_time": "2024-04-26T09:41:20.896384Z"
    }
   },
   "cell_type": "code",
   "source": [
    "# Разделение перемешанных данных с фиксированным random_state\n",
    "X_train_shuffle, X_val_shuffle, y_train_shuffle, y_val_shuffle = train_test_split(X, y, test_size=0.2, random_state=42,\n",
    "                                                                                  shuffle=True)\n",
    "\n",
    "print(\"Индексы перемешанной обучающей выборки:\", X_train_shuffle.shape[0])\n",
    "print(\"Индексы перемешанной валидационной выборки:\", X_val_shuffle.shape[0])\n"
   ],
   "id": "fc5bbb7dfef77e7",
   "outputs": [
    {
     "name": "stdout",
     "output_type": "stream",
     "text": [
      "Индексы перемешанной обучающей выборки: 120\n",
      "Индексы перемешанной валидационной выборки: 30\n"
     ]
    }
   ],
   "execution_count": 28
  },
  {
   "metadata": {},
   "cell_type": "markdown",
   "source": "4. Обучите модель логистической регрессии на обучающих данных. Выведите значения коэффициентов модели, полученных в результате обучения. Сделайте предсказание на тестовом наборе признаков. Выведите значение метрик accuracy и f1-score.",
   "id": "78f4c8b0379fbab7"
  },
  {
   "metadata": {
    "ExecuteTime": {
     "end_time": "2024-04-26T09:41:21.433465Z",
     "start_time": "2024-04-26T09:41:21.360415Z"
    }
   },
   "cell_type": "code",
   "source": [
    "from sklearn.linear_model import LogisticRegression\n",
    "from sklearn.metrics import accuracy_score, f1_score\n",
    "\n",
    "# Обучение модели логистической регрессии\n",
    "model = LogisticRegression()\n",
    "model.fit(X_train, y_train)\n",
    "\n",
    "# Вывод коэффициентов модели\n",
    "print(\"Коэффициенты модели:\", model.coef_)\n",
    "\n",
    "# Предсказание на валидационной выборке\n",
    "y_pred = model.predict(X_val)\n",
    "\n",
    "# Вычисление метрик\n",
    "accuracy = accuracy_score(y_val, y_pred)\n",
    "f1 = f1_score(y_val, y_pred, average='weighted')\n",
    "\n",
    "print(\"Accuracy:\", accuracy)\n",
    "print(\"F1-score:\", f1)\n"
   ],
   "id": "91d27db6b176a531",
   "outputs": [
    {
     "name": "stdout",
     "output_type": "stream",
     "text": [
      "Коэффициенты модели: [[-0.39335135  0.96264498 -2.37509891 -0.99874851]\n",
      " [ 0.50837874 -0.25489676 -0.21301399 -0.77576575]\n",
      " [-0.11502738 -0.70774822  2.5881129   1.77451426]]\n",
      "Accuracy: 1.0\n",
      "F1-score: 1.0\n"
     ]
    }
   ],
   "execution_count": 29
  },
  {
   "metadata": {},
   "cell_type": "markdown",
   "source": "5. Разделите данные на обучающую и валидационную выборки по новому в соотношении 75-25. Обучите модель на этих данных, выведите значения получившихся коэффициентов модели. Выведите значения метрик и сравните их со значениями из предыдущего пункта. 6. 7. Сделайте вывод о том, влияет ли способ разбиения на результат.",
   "id": "28a0573786d9353"
  },
  {
   "metadata": {
    "ExecuteTime": {
     "end_time": "2024-04-26T09:41:21.532988Z",
     "start_time": "2024-04-26T09:41:21.468614Z"
    }
   },
   "cell_type": "code",
   "source": [
    "# Разделение данных (75% - 25%)\n",
    "X_train_new, X_val_new, y_train_new, y_val_new = train_test_split(X, y, test_size=0.25, random_state=42)\n",
    "\n",
    "# Обучение модели на новых данных\n",
    "model_new = LogisticRegression()\n",
    "model_new.fit(X_train_new, y_train_new)\n",
    "\n",
    "# Вывод коэффициентов модели\n",
    "print(\"Новые коэффициенты модели:\", model_new.coef_)\n",
    "\n",
    "# Предсказание на валидационной выборке\n",
    "y_pred_new = model_new.predict(X_val_new)\n",
    "\n",
    "# Вычисление метрик\n",
    "accuracy_new = accuracy_score(y_val_new, y_pred_new)\n",
    "f1_new = f1_score(y_val_new, y_pred_new, average='weighted')\n",
    "\n",
    "print(\"Новые значения метрик:\")\n",
    "print(\"Accuracy:\", accuracy_new)\n",
    "print(\"F1-score:\", f1_new)\n"
   ],
   "id": "7489598ee3f3df42",
   "outputs": [
    {
     "name": "stdout",
     "output_type": "stream",
     "text": [
      "Новые коэффициенты модели: [[-0.39086541  0.92121439 -2.33169474 -0.9799743 ]\n",
      " [ 0.4986242  -0.30952758 -0.21642641 -0.7316383 ]\n",
      " [-0.10775879 -0.61168681  2.54812115  1.7116126 ]]\n",
      "Новые значения метрик:\n",
      "Accuracy: 1.0\n",
      "F1-score: 1.0\n"
     ]
    }
   ],
   "execution_count": 30
  },
  {
   "metadata": {},
   "cell_type": "markdown",
   "source": "6. Теперь сделайте k-блочную перекрёстную проверку модели (кросс-валидацию). Сравните полученные метрики с метриками, которые были при hold-out разбиении.",
   "id": "fe3536e8464b763b"
  },
  {
   "metadata": {
    "ExecuteTime": {
     "end_time": "2024-04-26T09:41:21.856612Z",
     "start_time": "2024-04-26T09:41:21.611177Z"
    }
   },
   "cell_type": "code",
   "source": [
    "from sklearn.model_selection import cross_val_score, KFold\n",
    "\n",
    "# Инициализация модели\n",
    "model_cv = LogisticRegression(max_iter=1000)\n",
    "\n",
    "# K-блочная перекрёстная проверка (K=5)\n",
    "kf = KFold(n_splits=5, shuffle=True, random_state=42)\n",
    "cv_scores = cross_val_score(model_cv, X, y, cv=kf)\n",
    "\n",
    "print(\"Метрики для кросс-валидации (K=5):\", cv_scores)\n",
    "print(\"Среднее значение метрик:\", cv_scores.mean())\n"
   ],
   "id": "16a0e65ee7bd3a5e",
   "outputs": [
    {
     "name": "stdout",
     "output_type": "stream",
     "text": [
      "Метрики для кросс-валидации (K=5): [1.         1.         0.93333333 0.96666667 0.96666667]\n",
      "Среднее значение метрик: 0.9733333333333334\n"
     ]
    }
   ],
   "execution_count": 31
  },
  {
   "metadata": {},
   "cell_type": "markdown",
   "source": "7. Теперь сделайте ту же самую перекрёстную проверку модели, используя библиотечную функцию cross_val_score. Убедитесь, что получится тот же результат.",
   "id": "d918205dc0dfead1"
  },
  {
   "metadata": {
    "ExecuteTime": {
     "end_time": "2024-04-26T09:41:22.318754Z",
     "start_time": "2024-04-26T09:41:22.018685Z"
    }
   },
   "cell_type": "code",
   "source": [
    "# Перекрёстная проверка с использованием cross_val_score (K=5)\n",
    "cv_scores_cross_val_score = cross_val_score(model_cv, X, y, cv=5)\n",
    "\n",
    "print(\"Метрики для кросс-валидации (K=5) с cross_val_score:\", cv_scores_cross_val_score)\n",
    "print(\"Среднее значение метрик:\", cv_scores_cross_val_score.mean())\n"
   ],
   "id": "32af6a14642b219f",
   "outputs": [
    {
     "name": "stdout",
     "output_type": "stream",
     "text": [
      "Метрики для кросс-валидации (K=5) с cross_val_score: [0.96666667 1.         0.93333333 0.96666667 1.        ]\n",
      "Среднее значение метрик: 0.9733333333333334\n"
     ]
    }
   ],
   "execution_count": 32
  },
  {
   "metadata": {},
   "cell_type": "markdown",
   "source": "8. Теперь сделайте k-блочную перекрёстную проверку модели (кросс-валидацию) со стратификацией. Проделайте всё тоже самое, что и в предыдущем пункте.",
   "id": "71b57d4a6e5ca2f9"
  },
  {
   "metadata": {
    "ExecuteTime": {
     "end_time": "2024-04-26T09:41:22.596071Z",
     "start_time": "2024-04-26T09:41:22.327886Z"
    }
   },
   "cell_type": "code",
   "source": [
    "from sklearn.model_selection import StratifiedKFold\n",
    "\n",
    "# K-блочная перекрёстная проверка с стратификацией (K=5)\n",
    "skf = StratifiedKFold(n_splits=5, shuffle=True, random_state=42)\n",
    "cv_scores_stratified = cross_val_score(model_cv, X, y, cv=skf)\n",
    "\n",
    "print(\"Метрики для кросс-валидации с стратификацией (K=5):\", cv_scores_stratified)\n",
    "print(\"Среднее значение метрик:\", cv_scores_stratified.mean())\n"
   ],
   "id": "a2fb0e8def9b4ab5",
   "outputs": [
    {
     "name": "stdout",
     "output_type": "stream",
     "text": [
      "Метрики для кросс-валидации с стратификацией (K=5): [1.         0.96666667 0.93333333 1.         0.93333333]\n",
      "Среднее значение метрик: 0.9666666666666668\n"
     ]
    }
   ],
   "execution_count": 33
  },
  {
   "metadata": {},
   "cell_type": "markdown",
   "source": "9. Теперь сделайте перекрёстную проверку, изпользуя leave-one-out разбиение. Проделайте всё тоже самое, что и в предыдущем пункте.",
   "id": "a2082cb0ba1d86f9"
  },
  {
   "metadata": {
    "ExecuteTime": {
     "end_time": "2024-04-26T09:41:28.879666Z",
     "start_time": "2024-04-26T09:41:22.599205Z"
    }
   },
   "cell_type": "code",
   "source": [
    "from sklearn.model_selection import LeaveOneOut\n",
    "\n",
    "# Перекрёстная проверка с использованием leave-one-out разбиения\n",
    "loo = LeaveOneOut()\n",
    "cv_scores_loo = cross_val_score(model_cv, X, y, cv=loo)\n",
    "\n",
    "print(\"Метрики для leave-one-out перекрёстной проверки:\", cv_scores_loo)\n",
    "print(\"Среднее значение метрик:\", cv_scores_loo.mean())\n"
   ],
   "id": "abddb32896a758a5",
   "outputs": [
    {
     "name": "stdout",
     "output_type": "stream",
     "text": [
      "Метрики для leave-one-out перекрёстной проверки: [1. 1. 1. 1. 1. 1. 1. 1. 1. 1. 1. 1. 1. 1. 1. 1. 1. 1. 1. 1. 1. 1. 1. 1.\n",
      " 1. 1. 1. 1. 1. 1. 1. 1. 1. 1. 1. 1. 1. 1. 1. 1. 1. 1. 1. 1. 1. 1. 1. 1.\n",
      " 1. 1. 1. 1. 1. 1. 1. 1. 1. 1. 1. 1. 1. 1. 1. 1. 1. 1. 1. 1. 1. 1. 0. 1.\n",
      " 1. 1. 1. 1. 1. 0. 1. 1. 1. 1. 1. 0. 1. 1. 1. 1. 1. 1. 1. 1. 1. 1. 1. 1.\n",
      " 1. 1. 1. 1. 1. 1. 1. 1. 1. 1. 0. 1. 1. 1. 1. 1. 1. 1. 1. 1. 1. 1. 1. 0.\n",
      " 1. 1. 1. 1. 1. 1. 1. 1. 1. 1. 1. 1. 1. 1. 1. 1. 1. 1. 1. 1. 1. 1. 1. 1.\n",
      " 1. 1. 1. 1. 1. 1.]\n",
      "Среднее значение метрик: 0.9666666666666667\n"
     ]
    }
   ],
   "execution_count": 34
  }
 ],
 "metadata": {
  "kernelspec": {
   "display_name": "Python 3",
   "language": "python",
   "name": "python3"
  },
  "language_info": {
   "codemirror_mode": {
    "name": "ipython",
    "version": 2
   },
   "file_extension": ".py",
   "mimetype": "text/x-python",
   "name": "python",
   "nbconvert_exporter": "python",
   "pygments_lexer": "ipython2",
   "version": "2.7.6"
  }
 },
 "nbformat": 4,
 "nbformat_minor": 5
}
