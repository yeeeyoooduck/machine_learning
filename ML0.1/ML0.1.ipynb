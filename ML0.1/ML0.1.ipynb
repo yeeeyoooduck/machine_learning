{
 "cells": [
  {
   "cell_type": "code",
   "execution_count": null,
   "outputs": [],
   "source": [
    "import numpy as np\n",
    "import pandas as pd\n",
    "import matplotlib.pyplot as plt\n",
    "import seaborn as sns"
   ],
   "metadata": {
    "collapsed": false
   },
   "id": "2df767a158a87ee5"
  },
  {
   "cell_type": "markdown",
   "source": [
    "1. С помощью массивов numpy создайте таблицу умножения."
   ],
   "metadata": {
    "collapsed": false
   },
   "id": "23c90e3ae44cba14"
  },
  {
   "cell_type": "code",
   "execution_count": null,
   "outputs": [],
   "source": [
    "# Создаем массивы NumPy для множителей от 1 до 10\n",
    "multipliers = np.arange(1, 11)\n",
    "table = multipliers[:, np.newaxis] * multipliers\n",
    "\n",
    "# Выводим таблицу умножения\n",
    "print(table)"
   ],
   "metadata": {
    "collapsed": false
   },
   "id": "d4a3c36638513382"
  },
  {
   "cell_type": "markdown",
   "source": [
    "2. Создайте функцию, которая принимает как аргументы целое число N и первый элемент (вещественное число), и разность (вещественное число) и создает матрицу numpy по диагонали, которой располагаются первые N членов арифметической прогрессии."
   ],
   "metadata": {
    "collapsed": false
   },
   "id": "2f83ca8a151fa5b5"
  },
  {
   "cell_type": "code",
   "execution_count": null,
   "outputs": [],
   "source": [
    "def create_arithmetic_matrix(N, first_element, difference):\n",
    "    # Создаем массив numpy, заполненный нулями размером NxN\n",
    "    matrix = np.zeros((N, N))\n",
    "    \n",
    "    # Заполняем диагональ матрицы первыми N членами арифметической прогрессии\n",
    "    for i in range(N):\n",
    "        matrix[i, i] = first_element + i * difference\n",
    "\n",
    "    return matrix\n",
    "\n",
    "N = 5  # Количество членов арифметической прогрессии\n",
    "first_element = 2.0  # Первый член\n",
    "difference = 3.0  # Разность\n",
    "\n",
    "result_matrix = create_arithmetic_matrix(N, first_element, difference)\n",
    "print(result_matrix)"
   ],
   "metadata": {
    "collapsed": false
   },
   "id": "f6f5e725016bb412"
  },
  {
   "cell_type": "markdown",
   "source": [
    "3. Сгенерируйте средствами numpy матрицу А 5 на 5, содержащую последовательные числа от 1 до 25. Используя срезы извлеките в плоский массив все нечетные элементы этой матрицы."
   ],
   "metadata": {
    "collapsed": false
   },
   "id": "bc9348b526f19030"
  },
  {
   "cell_type": "code",
   "execution_count": null,
   "outputs": [],
   "source": [
    "# Создаем матрицу A 5x5 с последовательными числами от 1 до 25\n",
    "A = np.arange(1, 26).reshape(5, 5)\n",
    "\n",
    "# Извлекаем все нечетные элементы с использованием среза\n",
    "odd_elements = A[A % 2 != 0]\n",
    "\n",
    "# Выводим результат\n",
    "print(odd_elements)"
   ],
   "metadata": {
    "collapsed": false
   },
   "id": "f31213ae44085c40"
  },
  {
   "cell_type": "markdown",
   "source": [
    "4. Создайте двумерный массив, содержащий единицы на границе и нули внутри."
   ],
   "metadata": {
    "collapsed": false
   },
   "id": "1444bb72e2128dbd"
  },
  {
   "cell_type": "code",
   "execution_count": null,
   "outputs": [],
   "source": [
    "rows, cols = 5, 6\n",
    "\n",
    "# Создайте массив заполненный нулями\n",
    "array = np.zeros((rows, cols))\n",
    "\n",
    "# Задайте единицы на границе\n",
    "array[0, :] = 1  # Первая строка\n",
    "array[-1, :] = 1  # Последняя строка\n",
    "array[:, 0] = 1  # Первый столбец\n",
    "array[:, -1] = 1  # Последний столбец\n",
    "\n",
    "print(array)"
   ],
   "metadata": {
    "collapsed": false
   },
   "id": "4464daab365e5877"
  },
  {
   "cell_type": "markdown",
   "source": [
    "5. Создайте две матрицы размером (5,5). Одна матрица содержит 5 в шахматном порядке как в задаче домашнего задания, другая имеет треугольную форму содержащую 5 на основной диагонали и в позициях выше ее, а ниже все 0. Посчитайте их детерминант и найдите обратные матрицы."
   ],
   "metadata": {
    "collapsed": false
   },
   "id": "3a470c251c122ad4"
  },
  {
   "cell_type": "code",
   "execution_count": null,
   "outputs": [],
   "source": [
    "# Создание матрицы 5x5 в шахматном порядке\n",
    "matrix_chess = np.zeros((5, 5))\n",
    "matrix_chess[1::2, ::2] = 5\n",
    "matrix_chess[::2, 1::2] = 5\n",
    "\n",
    "# Создание треугольной матрицы 5x5\n",
    "matrix_triangle = np.zeros((5, 5))\n",
    "matrix_triangle[np.triu_indices(5)] = 5\n",
    "\n",
    "# Найдем детерминанты\n",
    "det_chess = np.linalg.det(matrix_chess)\n",
    "det_triangle = np.linalg.det(matrix_triangle)\n",
    "\n",
    "if det_chess == 0:\n",
    "    print(\"Матрица в шахматном порядке сингулярна, обратной матрицы нет.\")\n",
    "else:\n",
    "    inv_chess = np.linalg.inv(matrix_chess)\n",
    "    print(\"Обратная матрица для матрицы в шахматном порядке:\")\n",
    "    print(inv_chess)\n",
    "\n",
    "if det_triangle == 0:\n",
    "    print(\"Треугольная матрица сингулярна, обратной матрицы нет.\")\n",
    "else:\n",
    "    inv_triangle = np.linalg.inv(matrix_triangle)\n",
    "    print(\"Обратная матрица для треугольной матрицы:\")\n",
    "    print(inv_triangle)"
   ],
   "metadata": {
    "collapsed": false
   },
   "id": "16528f9c003c59cb"
  },
  {
   "cell_type": "markdown",
   "source": [
    "6. С помощью pandas загрузите датасет для предсказания цены квартиры, прилагающийся к этой работе."
   ],
   "metadata": {
    "collapsed": false
   },
   "id": "ffd9bbdbab355464"
  },
  {
   "cell_type": "code",
   "execution_count": null,
   "outputs": [],
   "source": [
    "data = pd.read_csv('data.csv')"
   ],
   "metadata": {
    "collapsed": false
   },
   "id": "2ead198231255101"
  },
  {
   "cell_type": "markdown",
   "source": [
    "7. Выведите на экран несколько первых и несколько последний строк файла."
   ],
   "metadata": {
    "collapsed": false
   },
   "id": "6f35c7884efcf42b"
  },
  {
   "cell_type": "code",
   "execution_count": null,
   "outputs": [],
   "source": [
    "print(data.head(10))\n",
    "print(data.tail(10))"
   ],
   "metadata": {
    "collapsed": false
   },
   "id": "e2ea28d41c868877"
  },
  {
   "cell_type": "markdown",
   "source": [
    "8. Выведите с помощью методов pandas основные количественные параметры датасета: количество строк и столбцов, тип данных каждого поля, количество значений в каждом столбце, шкала измерения каждого численного поля."
   ],
   "metadata": {
    "collapsed": false
   },
   "id": "316f9444c5fd9741"
  },
  {
   "cell_type": "code",
   "execution_count": null,
   "outputs": [],
   "source": [
    "# Вывод основных параметров датасета\n",
    "data.info()"
   ],
   "metadata": {
    "collapsed": false
   },
   "id": "264358756ba146a6"
  },
  {
   "cell_type": "markdown",
   "source": [
    "9. Удалите из таблицы столбцы, содержащие идентификаторы, переименуйте все оставшиеся названия колонок на русском языке."
   ],
   "metadata": {
    "collapsed": false
   },
   "id": "4f9d40ede0204565"
  },
  {
   "cell_type": "code",
   "execution_count": null,
   "outputs": [],
   "source": [
    "# Удаление столбцов с идентификаторами\n",
    "data = data.drop('Id', axis=1)\n",
    "\n",
    "# Переименование оставшихся столбцов на русском языке\n",
    "data = data.rename(columns={\n",
    "    'DistrictId': 'Район',\n",
    "    'Rooms': 'Комнаты',\n",
    "    'Square': 'Площадь',\n",
    "    'LifeSquare': 'Площадь жизни',\n",
    "    'KitchenSquare': 'Кухонная площадь',\n",
    "    'Floor': 'Этаж',\n",
    "    'HouseFloor': 'Пол в доме',\n",
    "    'HouseYear': 'Домашний год',\n",
    "    'Ecology_1': 'Экология_1',\n",
    "    'Ecology_2': 'Экология_2',\n",
    "    'Ecology_3': 'Экология_3',\n",
    "    'Social_1': 'Общественный_1',\n",
    "    'Social_2': 'Общественный_2',\n",
    "    'Social_3': 'Общественный_3',\n",
    "    'Healthcare_1': 'Забота о здоровье_1',\n",
    "    'Helthcare_2': 'Забота о здоровье_2',\n",
    "    'Shops_1': 'Магазины_1',\n",
    "    'Shops_2': 'Магазины_2',\n",
    "    'Price': 'Цена'\n",
    "})\n"
   ],
   "metadata": {
    "collapsed": false
   },
   "id": "c62e3f259c6f1ae0"
  },
  {
   "cell_type": "markdown",
   "source": [
    "10. Выведите отдельно столбец, содержащий цену, по номеру и названию. Выведите первую, десятую и предпоследнюю строку таблицы по номеру и по индексу."
   ],
   "metadata": {
    "collapsed": false
   },
   "id": "99319f444047bfb3"
  },
  {
   "cell_type": "code",
   "execution_count": null,
   "outputs": [],
   "source": [
    "# Вывод столбца с ценой по названию ('Price')\n",
    "column_by_name = data['Цена']\n",
    "print(\"Столбец с ценой (по названию):\")\n",
    "print(column_by_name)\n",
    "\n",
    "# Вывод первой, десятой и предпоследней строки по номеру\n",
    "rows_by_number = data.iloc[[0, 9, -2]]\n",
    "print(\"\\nПервая, десятая и предпоследняя строки (по номеру):\")\n",
    "print(rows_by_number)\n",
    "\n",
    "# Вывод первой, десятой и предпоследней строки по индексу\n",
    "rows_by_index = data.iloc[[0, 9, -2], :]\n",
    "print(\"\\nПервая, десятая и предпоследняя строки (по индексу):\")\n",
    "print(rows_by_index)"
   ],
   "metadata": {
    "collapsed": false
   },
   "id": "356237f795f59365"
  },
  {
   "cell_type": "markdown",
   "source": [
    "11. Выделите в отдельную таблицу последние десять строк. Уберите в ней столбец с ценой. Склейте ее с первоначальной таблицей при помощи append. Заполните отсутствующие значения цены средним по таблице."
   ],
   "metadata": {
    "collapsed": false
   },
   "id": "e7244fe8c7c14ecf"
  },
  {
   "cell_type": "code",
   "execution_count": null,
   "outputs": [],
   "source": [
    "# Выделите последние десять строк в отдельную таблицу\n",
    "last_10_rows = data.tail(10).copy()\n",
    "\n",
    "# Удалите столбец с ценой в отдельной таблице\n",
    "last_10_rows = last_10_rows.drop(columns='Цена')\n",
    "\n",
    "# Вычислите среднее значение цены в первоначальной таблице\n",
    "mean_price = data['Цена'].mean()\n",
    "\n",
    "# Замените отсутствующие значения цены средним значением\n",
    "last_10_rows['Цена'] = mean_price\n",
    "\n",
    "# Склейте отдельную таблицу с первоначальной таблицей при помощи concat\n",
    "merged_data = pd.concat([data, last_10_rows], ignore_index=True)\n",
    "\n",
    "print(merged_data)"
   ],
   "metadata": {
    "collapsed": false
   },
   "id": "fe4d60efb835b1c3"
  },
  {
   "cell_type": "markdown",
   "source": [
    "12. Выделите пять последних колонок в отдельную таблицу. Удалите в ней строки, в которых цена ниже среднего. Присоедините эту таблицу к изначальной (выберите самый подходящий тип соединения)."
   ],
   "metadata": {
    "collapsed": false
   },
   "id": "227429aa926c254e"
  },
  {
   "cell_type": "code",
   "execution_count": null,
   "outputs": [],
   "source": [
    "# Выделите пять последних колонок в отдельную таблицу\n",
    "last_5_columns = data.iloc[:, -5:]\n",
    "\n",
    "# Вычислите среднее значение цены в изначальной таблице\n",
    "mean_price = data['Цена'].mean()\n",
    "\n",
    "# Удалите строки в отдельной таблице, в которых цена ниже среднего\n",
    "last_5_columns = last_5_columns[last_5_columns['Цена'] >= mean_price]\n",
    "\n",
    "# Присоедините эту таблицу к изначальной таблице с использованием типа соединения \"outer\"\n",
    "merged_data = pd.concat([data, last_5_columns], axis=1)\n",
    "\n",
    "# Вывод получившейся таблицы\n",
    "print(merged_data)"
   ],
   "metadata": {
    "collapsed": false
   },
   "id": "1760d3570c06920e"
  },
  {
   "cell_type": "markdown",
   "source": [
    "13. Выведите таблицу, содержащую среднюю цену и количество квартир на каждом этаже из первоначального набора данных."
   ],
   "metadata": {
    "collapsed": false
   },
   "id": "c6780215a380b155"
  },
  {
   "cell_type": "code",
   "execution_count": null,
   "outputs": [],
   "source": [
    "data.info()"
   ],
   "metadata": {
    "collapsed": false
   },
   "id": "4e1d9e79f24cc612"
  },
  {
   "cell_type": "code",
   "execution_count": null,
   "outputs": [],
   "source": [
    "# Группировка данных по этажу и вычисление средней цены и количества квартир на каждом этаже\n",
    "avg_price_floor = data.groupby('Этаж').agg({'Цена': 'mean', 'Район': 'count'}).reset_index()\n",
    "\n",
    "# Переименование столбцов для ясности\n",
    "avg_price_floor = avg_price_floor.rename(columns={'Цена': 'Средняя цена', 'Район': 'Количество квартир'})\n",
    "\n",
    "# Вывод таблицы с средней ценой и количеством квартир на каждом этаже\n",
    "print(avg_price_floor)"
   ],
   "metadata": {
    "collapsed": false
   },
   "id": "253031498795811a"
  },
  {
   "cell_type": "markdown",
   "source": [
    "14. Сохраните получившуюся таблицу в файлы формата csv и xlsx. Прочитайте их и убедитесь, что данные отображаются корректно."
   ],
   "metadata": {
    "collapsed": false
   },
   "id": "a7a6fbc6ba6e7eed"
  },
  {
   "cell_type": "code",
   "execution_count": null,
   "outputs": [],
   "source": [
    "# Сохранение данные в файл CSV\n",
    "avg_price_floor.to_csv('avg_price_floor.csv', index=False)\n",
    "\n",
    "# Сохранение данные в файл XLSX\n",
    "avg_price_floor.to_excel('avg_price_floor.xlsx', index=False)\n",
    "\n",
    "# Чтение данных из файлов\n",
    "csv_data = pd.read_csv('avg_price_floor.csv')\n",
    "xlsx_data = pd.read_excel('avg_price_floor.xlsx')\n",
    "\n",
    "# Вывод данных\n",
    "print(\"Данные из файла CSV:\")\n",
    "print(csv_data)\n",
    "\n",
    "print(\"\\nДанные из файла XLSX:\")\n",
    "print(xlsx_data)"
   ],
   "metadata": {
    "collapsed": false
   },
   "id": "29f348bd782334d6"
  },
  {
   "cell_type": "markdown",
   "source": [
    "15. Создайте в Excel или другом табличном редакторе таблицу, содержащую несколько численных и текстовых полей. Прочитайте ее в программу при помощи pandas."
   ],
   "metadata": {
    "collapsed": false
   },
   "id": "6d896e03b5846408"
  },
  {
   "cell_type": "code",
   "execution_count": null,
   "outputs": [],
   "source": [
    "data = pd.read_excel('avg_price_floor.xlsx')\n",
    "\n",
    "# Вывод данных\n",
    "print(data)"
   ],
   "metadata": {
    "collapsed": false
   },
   "id": "1d6f03efa3938de6"
  },
  {
   "cell_type": "markdown",
   "source": [
    "16. Дальнейшие задания производите используя изначальную версию датасета. Должны быть подписаны названия графиков, названия осей, указаны значения на осях. Оцениваться будет использование количества различных атрибутов при построении графиков и визуальная красота."
   ],
   "metadata": {
    "collapsed": false
   },
   "id": "5e954ff41a62a625"
  },
  {
   "cell_type": "code",
   "execution_count": null,
   "outputs": [],
   "source": [
    "data = pd.read_csv('data.csv')\n",
    "\n",
    "# Задание стиля графиков\n",
    "sns.set(style=\"whitegrid\")\n",
    "\n",
    "# Задание стиля графиков\n",
    "sns.set(style=\"whitegrid\")\n",
    "\n",
    "# Создание графика средней цены в зависимости от числа комнат\n",
    "plt.figure(figsize=(10, 6))\n",
    "sns.barplot(x='Rooms', y='Price', data=data)\n",
    "plt.title('Average Price by Number of Rooms')\n",
    "plt.xlabel('Number of Rooms')\n",
    "plt.ylabel('Average Price')\n",
    "plt.show()"
   ],
   "metadata": {
    "collapsed": false
   },
   "id": "640f6544ed4838fb"
  },
  {
   "cell_type": "markdown",
   "source": [
    "17. Постройте круговую диаграмму для признака Rooms, иллюстрирующую количество квартир в процентах в зависимости от количества комнат. Сделайте сектор с наибольшим числом квартир выдвинутым."
   ],
   "metadata": {
    "collapsed": false
   },
   "id": "80f5d1e391ed1a17"
  },
  {
   "cell_type": "code",
   "execution_count": null,
   "outputs": [],
   "source": [
    "# Подсчет количества квартир для каждого числа комнат\n",
    "room_counts = data['Rooms'].value_counts()\n",
    "\n",
    "# Определение наибольшего количества комнат\n",
    "max_rooms = room_counts.idxmax()\n",
    "\n",
    "# Подготовка данных для круговой диаграммы\n",
    "labels = room_counts.index\n",
    "sizes = room_counts.values\n",
    "explode = [0.1 if room == max_rooms else 0 for room in labels]\n",
    "\n",
    "# Построение круговой диаграммы\n",
    "plt.figure(figsize=(8, 8))\n",
    "plt.pie(sizes, labels=labels, autopct='%1.1f%%', startangle=140, explode=explode)\n",
    "plt.axis('equal')  # Круговая диаграмма будет круглой\n",
    "plt.title('Процентное количество квартир в зависимости от количества комнат')\n",
    "plt.show()\n"
   ],
   "metadata": {
    "collapsed": false
   },
   "id": "c817075d4dba5507"
  },
  {
   "cell_type": "markdown",
   "source": [
    "18. Постройте гистограмму по целевой переменной Price. Оцените визуально, по какой цене продаётся наибольшее количество квартир."
   ],
   "metadata": {
    "collapsed": false
   },
   "id": "994f29614f177325"
  },
  {
   "cell_type": "code",
   "execution_count": null,
   "outputs": [],
   "source": [
    "# Построение гистограммы\n",
    "plt.figure(figsize=(10, 6))\n",
    "plt.hist(data['Price'], bins=30, color='skyblue', edgecolor='black')\n",
    "plt.title('Гистограмма целевой переменной Price')\n",
    "plt.xlabel('Цена')\n",
    "plt.ylabel('Количество квартир')\n",
    "plt.show()"
   ],
   "metadata": {
    "collapsed": false
   },
   "id": "6ecfd8208790d55e"
  },
  {
   "cell_type": "markdown",
   "source": [
    "19. Постройте диаграммы рассеяния для признаков Rooms, Square, HouseFloor, HouseYear в зависимости от целевой переменной Price в одной области figure. Оцените визуально, есть ли среди них такие, на которых разброс точек близок к линейной функции."
   ],
   "metadata": {
    "collapsed": false
   },
   "id": "706a319bd42bffc7"
  },
  {
   "cell_type": "code",
   "execution_count": null,
   "outputs": [],
   "source": [
    "# Создание области figure для размещения всех диаграмм рассеяния\n",
    "plt.figure(figsize=(16, 10))\n",
    "\n",
    "# Диаграмма рассеяния для признака Rooms в зависимости от цены\n",
    "plt.subplot(2, 2, 1)\n",
    "plt.scatter(data['Rooms'], data['Price'], color='blue', alpha=0.5)\n",
    "plt.title('Rooms vs Price')\n",
    "plt.xlabel('Rooms')\n",
    "plt.ylabel('Price')\n",
    "\n",
    "# Диаграмма рассеяния для признака Square в зависимости от цены\n",
    "plt.subplot(2, 2, 2)\n",
    "plt.scatter(data['Square'], data['Price'], color='green', alpha=0.5)\n",
    "plt.title('Square vs Price')\n",
    "plt.xlabel('Square')\n",
    "plt.ylabel('Price')\n",
    "\n",
    "# Диаграмма рассеяния для признака HouseFloor в зависимости от цены\n",
    "plt.subplot(2, 2, 3)\n",
    "plt.scatter(data['HouseFloor'], data['Price'], color='red', alpha=0.5)\n",
    "plt.title('HouseFloor vs Price')\n",
    "plt.xlabel('HouseFloor')\n",
    "plt.ylabel('Price')\n",
    "\n",
    "# Диаграмма рассеяния для признака HouseYear в зависимости от цены\n",
    "plt.subplot(2, 2, 4)\n",
    "plt.scatter(data['HouseYear'], data['Price'], color='purple', alpha=0.5)\n",
    "plt.title('HouseYear vs Price')\n",
    "plt.xlabel('HouseYear')\n",
    "plt.ylabel('Price')\n",
    "\n",
    "# Отображение всех диаграмм рассеяния\n",
    "plt.tight_layout()\n",
    "plt.show()"
   ],
   "metadata": {
    "collapsed": false
   },
   "id": "6fd1222d3fc5f9b2"
  },
  {
   "cell_type": "markdown",
   "source": [
    "20. Постройте ядерную оценку плотности целевой переменной Price. Оцените визуально, напоминает ли полученный график нормальное распределение. Постройте двумерную ядерную оценку плотности для целевой переменной Price и признака HouseFloor, затем оцените визуально на каких этажах и по какой цене продаётся основная масса квартир."
   ],
   "metadata": {
    "collapsed": false
   },
   "id": "76898d27d1bd1cf0"
  },
  {
   "cell_type": "code",
   "execution_count": null,
   "outputs": [],
   "source": [
    "# Задание стиля графиков\n",
    "sns.set(style=\"whitegrid\")\n",
    "\n",
    "# Построение ядерной оценки плотности для целевой переменной Price\n",
    "plt.figure(figsize=(10, 6))\n",
    "sns.kdeplot(data['Price'], shade=True, color='blue')\n",
    "plt.title('Ядерная оценка плотности для Price')\n",
    "plt.xlabel('Цена')\n",
    "plt.ylabel('Плотность')\n",
    "plt.show()\n",
    "\n",
    "# Построение двумерной ядерной оценки плотности для Price и HouseFloor\n",
    "plt.figure(figsize=(10, 6))\n",
    "sns.kdeplot(data['Price'], cmap=\"Blues\", fill=True, cbar=True)\n",
    "plt.title('Двумерная ядерная оценка плотности для Price и HouseFloor')\n",
    "plt.xlabel('Цена')\n",
    "plt.ylabel('HouseFloor')\n",
    "plt.show()"
   ],
   "metadata": {
    "collapsed": false
   },
   "id": "32acc4d73d191795"
  },
  {
   "cell_type": "markdown",
   "source": [
    "21. Постройте ящиковую диаграмму признака Square. Оцените визуально имеются ли выбросы, и, если да, то начиная с какого размера площади значение признака можно считать выбросом."
   ],
   "metadata": {
    "collapsed": false
   },
   "id": "9a24887bdb1f130e"
  },
  {
   "cell_type": "code",
   "execution_count": null,
   "outputs": [],
   "source": [
    "# Построение ящиковой диаграммы для признака Square\n",
    "plt.figure(figsize=(8, 6))\n",
    "plt.boxplot(data['Square'], vert=False)\n",
    "plt.title('Ящиковая диаграмма для признака Square')\n",
    "plt.xlabel('Площадь')\n",
    "plt.show()"
   ],
   "metadata": {
    "collapsed": false
   },
   "id": "9cea407ea7f32c2b"
  },
  {
   "cell_type": "markdown",
   "source": [
    "22. При помощи сетки графиков PairGrid визуализируйте попарные отношения признаков Rooms, Square, HouseFloor, HouseYear, Price следующим образом: на диагонали - гистограммы, под диагональю - ядерные оценки плотности, над диагональю - диаграммы рассеяния. По результатам визуализации сделайте выводы."
   ],
   "metadata": {
    "collapsed": false
   },
   "id": "b84001d8226493b5"
  },
  {
   "cell_type": "code",
   "execution_count": null,
   "outputs": [],
   "source": [
    "# Выбор только необходимых признаков\n",
    "selected_features = ['Rooms', 'Square', 'HouseFloor', 'HouseYear', 'Price']\n",
    "data_selected = data[selected_features]\n",
    "\n",
    "# Создание PairGrid\n",
    "g = sns.PairGrid(data_selected, diag_sharey=False)\n",
    "g.map_upper(sns.scatterplot)\n",
    "g.map_lower(sns.kdeplot, cmap=\"Blues_d\")\n",
    "g.map_diag(sns.histplot, kde_kws={'color': 'k'})\n",
    "\n",
    "# Настройка заголовков\n",
    "g.fig.suptitle(\"Попарные отношения признаков\", y=1.02)\n",
    "\n",
    "# Отображение PairGrid\n",
    "plt.show()"
   ],
   "metadata": {
    "collapsed": false
   },
   "id": "def48d821d5a568c"
  },
  {
   "cell_type": "markdown",
   "source": [
    "23. Постройте тепловую карту матрицы корреляции (df.corr()) признаков Rooms, Square, HouseFloor, HouseYear, Price. По ней определите, какие признаки являются зависимыми (у таких признаков коэффициент корреляции близок к единице)."
   ],
   "metadata": {
    "collapsed": false
   },
   "id": "926d70454be449b8"
  },
  {
   "cell_type": "code",
   "execution_count": 66,
   "outputs": [
    {
     "data": {
      "text/plain": "<Figure size 800x600 with 2 Axes>",
      "image/png": "[encoded data removed]"
     },
     "metadata": {},
     "output_type": "display_data"
    }
   ],
   "source": [
    "# Выбор только необходимых признаков\n",
    "selected_features = ['Rooms', 'Square', 'HouseFloor', 'HouseYear', 'Price']\n",
    "data_selected = data[selected_features]\n",
    "\n",
    "# Построение матрицы корреляции\n",
    "corr_matrix = data_selected.corr()\n",
    "\n",
    "# Построение тепловой карты\n",
    "plt.figure(figsize=(8, 6))\n",
    "sns.heatmap(corr_matrix, annot=True, cmap='coolwarm', fmt=\".2f\", square=True)\n",
    "plt.title('Тепловая карта матрицы корреляции')\n",
    "plt.show()"
   ],
   "metadata": {
    "collapsed": false,
    "ExecuteTime": {
     "end_time": "2023-10-24T22:00:51.461258900Z",
     "start_time": "2023-10-24T22:00:50.115259100Z"
    }
   },
   "id": "af0df04594f1e718"
  }
 ],
 "metadata": {
  "kernelspec": {
   "display_name": "Python 3",
   "language": "python",
   "name": "python3"
  },
  "language_info": {
   "codemirror_mode": {
    "name": "ipython",
    "version": 2
   },
   "file_extension": ".py",
   "mimetype": "text/x-python",
   "name": "python",
   "nbconvert_exporter": "python",
   "pygments_lexer": "ipython2",
   "version": "2.7.6"
  }
 },
 "nbformat": 4,
 "nbformat_minor": 5
}
