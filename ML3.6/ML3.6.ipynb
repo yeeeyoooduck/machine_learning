{
 "cells": [
  {
   "cell_type": "markdown",
   "source": [
    "Мультиномиальный наивный Байес: Может быть применим, если данные представлены в виде счетчиков или частот, что может быть полезно для категоризации определенных характеристик рака, но менее подходит для числовых признаков.\n",
    "\n",
    "Бернулли наивный Байес: Может быть применим, если признаки бинарные, но может оказаться неэффективным при работе с числовыми признаками.\n",
    "\n",
    "Категориальный наивный Байес: Подходит для данных с категориальными признаками, но преобразование числовых данных в категории может потерять информацию.\n",
    "\n",
    "Комплементарный наивный Байес: Может быть полезен при работе с несбалансированными данными, где классы имеют различные размеры, что может быть полезно для классификации доброкачественных и злокачественных опухолей.\n",
    "\n",
    "Выбор конкретной модели наивного Байеса зависит от характеристик данных и требований задачи классификации."
   ],
   "metadata": {
    "collapsed": false
   },
   "id": "51b8f4e66380ffbf"
  },
  {
   "cell_type": "markdown",
   "source": [
    "Загрузите набор данных о выживших на титанике. Повторите на нем моделирование из методических указаний. Попробуйте разные варианты байесовского классификатора в зависимости от форм расрпеделния эмпирических данных."
   ],
   "metadata": {
    "collapsed": false
   },
   "id": "e3ec786d0947c59"
  },
  {
   "cell_type": "code",
   "execution_count": 2,
   "id": "initial_id",
   "metadata": {
    "collapsed": true,
    "ExecuteTime": {
     "end_time": "2024-03-14T20:30:54.860456Z",
     "start_time": "2024-03-14T20:30:54.373575Z"
    }
   },
   "outputs": [
    {
     "name": "stdout",
     "output_type": "stream",
     "text": [
      "   PassengerId  Survived  Pclass  Sex   Age  SibSp  Parch     Fare  \\\n",
      "0            1         0       3    0  22.0      1      0   7.2500   \n",
      "1            2         1       1    1  38.0      1      0  71.2833   \n",
      "2            3         1       3    1  26.0      0      0   7.9250   \n",
      "3            4         1       1    1  35.0      1      0  53.1000   \n",
      "4            5         0       3    0  35.0      0      0   8.0500   \n",
      "\n",
      "   Embarked_C  Embarked_Q  Embarked_S  \n",
      "0           0           0           1  \n",
      "1           1           0           0  \n",
      "2           0           0           1  \n",
      "3           0           0           1  \n",
      "4           0           0           1  \n",
      "Classifier: GaussianNB\n",
      "[[81 24]\n",
      " [17 57]]\n",
      "Accuracy=  0.770949720670391\n",
      "F1_score=  0.7354838709677419\n",
      "\n",
      "\n",
      "Classifier: MultinomialNB\n",
      "[[86 19]\n",
      " [33 41]]\n",
      "Accuracy=  0.7094972067039106\n",
      "F1_score=  0.6119402985074627\n",
      "\n",
      "\n",
      "Classifier: BernoulliNB\n",
      "[[85 20]\n",
      " [19 55]]\n",
      "Accuracy=  0.7821229050279329\n",
      "F1_score=  0.738255033557047\n",
      "\n",
      "\n",
      "Classifier: ComplementNB\n",
      "[[85 20]\n",
      " [33 41]]\n",
      "Accuracy=  0.7039106145251397\n",
      "F1_score=  0.6074074074074074\n"
     ]
    }
   ],
   "source": [
    "import pandas as pd\n",
    "from sklearn import datasets\n",
    "from sklearn.model_selection import train_test_split\n",
    "from sklearn.naive_bayes import GaussianNB, MultinomialNB, BernoulliNB, ComplementNB\n",
    "from sklearn.metrics import confusion_matrix, accuracy_score, f1_score\n",
    "\n",
    "# Загрузка данных о выживших на титанике\n",
    "titanic_data = pd.read_csv(\"titanic.csv\")\n",
    "\n",
    "# Предварительный анализ данных\n",
    "print(titanic_data.head())\n",
    "\n",
    "# Определение целевой переменной и входных атрибутов\n",
    "X = titanic_data.drop(\"Survived\", axis=1)\n",
    "y = titanic_data[\"Survived\"]\n",
    "\n",
    "# Разделение данных на обучающий и тестовый наборы\n",
    "X_train, X_test, y_train, y_test = train_test_split(X, y, test_size=0.2, random_state=42)\n",
    "\n",
    "# Применение различных вариантов байесовских классификаторов\n",
    "classifiers = {\n",
    "    \"GaussianNB\": GaussianNB(),\n",
    "    \"MultinomialNB\": MultinomialNB(),\n",
    "    \"BernoulliNB\": BernoulliNB(),\n",
    "    \"ComplementNB\": ComplementNB()\n",
    "}\n",
    "\n",
    "for name, clf in classifiers.items():\n",
    "    # Обучение модели\n",
    "    clf.fit(X_train, y_train)\n",
    "    \n",
    "    # Прогнозирование на тестовом наборе\n",
    "    y_pred = clf.predict(X_test)\n",
    "    \n",
    "    # Оценка модели\n",
    "    print(f\"Classifier: {name}\")\n",
    "    print(confusion_matrix(y_test, y_pred))\n",
    "    print('Accuracy= ', accuracy_score(y_test, y_pred))\n",
    "    print('F1_score= ', f1_score(y_test, y_pred))\n",
    "    print(\"\\n\")\n",
    "    \n",
    "    # наилучшую производительность показал Бернулли наивный Байес, демонстрируя самую высокую точность и F1-меру среди всех моделей. Гауссовский наивный Байес также показал хорошие результаты. Мультиномиальный и Комплементарный наивные Байесы имеют более низкую точность и F1-меру по сравнению с остальными моделями.\n"
   ]
  },
  {
   "cell_type": "code",
   "outputs": [],
   "source": [],
   "metadata": {
    "collapsed": false
   },
   "id": "b8ef571aad0c3406"
  }
 ],
 "metadata": {
  "kernelspec": {
   "display_name": "Python 3",
   "language": "python",
   "name": "python3"
  },
  "language_info": {
   "codemirror_mode": {
    "name": "ipython",
    "version": 2
   },
   "file_extension": ".py",
   "mimetype": "text/x-python",
   "name": "python",
   "nbconvert_exporter": "python",
   "pygments_lexer": "ipython2",
   "version": "2.7.6"
  }
 },
 "nbformat": 4,
 "nbformat_minor": 5
}
