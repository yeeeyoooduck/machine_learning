{
 "cells": [
  {
   "cell_type": "code",
   "execution_count": 5,
   "id": "initial_id",
   "metadata": {
    "collapsed": true,
    "ExecuteTime": {
     "end_time": "2023-10-25T21:45:01.976580Z",
     "start_time": "2023-10-25T21:45:01.503614500Z"
    }
   },
   "outputs": [],
   "source": [
    "import pandas as pd\n",
    "import matplotlib.pyplot as plt\n",
    "import seaborn"
   ]
  },
  {
   "cell_type": "markdown",
   "source": [
    "1. Загрузите данные по вариантам в ноутбук."
   ],
   "metadata": {
    "collapsed": false
   },
   "id": "85f2afdc83e56f61"
  },
  {
   "cell_type": "code",
   "execution_count": 6,
   "outputs": [
    {
     "name": "stdout",
     "output_type": "stream",
     "text": [
      "         №  № школы Класс Пол  Номер варианта Задания с кратким ответом  \\\n",
      "0        1      124    11   Ж             341              ------+-----   \n",
      "1        2      128    11   Ж             345              -+----------   \n",
      "2        3      132    11   Ж             340              -+----------   \n",
      "3        4      134    11   Ж             339              -+----------   \n",
      "4        5      136    11   Ж             348              --------+---   \n",
      "...    ...      ...   ...  ..             ...                       ...   \n",
      "2351  2352      136    11   М             337              ++++++++++++   \n",
      "2352  2353      136    11   М             341              ++-+++++++++   \n",
      "2353  2354      136    11   М             341              ++++++++++++   \n",
      "2354  2355      136    11   М             343              ++++++++++++   \n",
      "2355  2356      136    11   Ж             337              ++++++++++++   \n",
      "\n",
      "     Задания с развёрнутым ответом  Устная часть  Первичный балл  Балл  \\\n",
      "0     0(2)0(2)0(2)0(3)0(3)0(4)0(4)           NaN               1     5   \n",
      "1     0(2)0(2)0(2)0(3)0(3)0(4)0(4)           NaN               1     5   \n",
      "2     0(2)0(2)0(2)0(3)0(3)0(4)0(4)           NaN               1     5   \n",
      "3     0(2)0(2)0(2)0(3)0(3)0(4)0(4)           NaN               1     5   \n",
      "4     0(2)0(2)0(2)0(3)0(3)0(4)0(4)           NaN               1     5   \n",
      "...                            ...           ...             ...   ...   \n",
      "2351  2(2)2(2)2(2)3(3)3(3)0(4)1(4)           NaN              25    92   \n",
      "2352  2(2)2(2)1(2)2(3)2(3)4(4)1(4)           NaN              25    92   \n",
      "2353  2(2)1(2)2(2)1(3)3(3)4(4)2(4)           NaN              27    96   \n",
      "2354  2(2)2(2)2(2)0(3)3(3)4(4)2(4)           NaN              27    96   \n",
      "2355  2(2)2(2)2(2)0(3)3(3)4(4)2(4)           NaN              27    96   \n",
      "\n",
      "      Минимальный балл  \n",
      "0                   27  \n",
      "1                   27  \n",
      "2                   27  \n",
      "3                   27  \n",
      "4                   27  \n",
      "...                ...  \n",
      "2351                27  \n",
      "2352                27  \n",
      "2353                27  \n",
      "2354                27  \n",
      "2355                27  \n",
      "\n",
      "[2356 rows x 11 columns]\n"
     ]
    }
   ],
   "source": [
    "df = pd.read_excel('Вариант 2.xlsx', skiprows=2, skipfooter=1)\n",
    "print(df)"
   ],
   "metadata": {
    "collapsed": false,
    "ExecuteTime": {
     "end_time": "2023-10-25T21:45:02.255580Z",
     "start_time": "2023-10-25T21:45:01.542580900Z"
    }
   },
   "id": "10337b61f851f09e"
  },
  {
   "cell_type": "markdown",
   "source": [
    "2. Сделайте описательную статистику полученных данных."
   ],
   "metadata": {
    "collapsed": false
   },
   "id": "429d3000a96c948b"
  },
  {
   "cell_type": "code",
   "execution_count": 7,
   "outputs": [
    {
     "data": {
      "text/plain": "                 №      № школы  Номер варианта  Устная часть  Первичный балл  \\\ncount  2356.000000  2356.000000     2356.000000           0.0     2356.000000   \nmean   1178.500000   132.005518      338.273769           NaN       10.123939   \nstd     680.262939     5.037984       53.660878           NaN        3.820484   \nmin       1.000000   121.000000      101.000000           NaN        1.000000   \n25%     589.750000   127.000000      339.000000           NaN        7.000000   \n50%    1178.500000   135.000000      342.500000           NaN       10.000000   \n75%    1767.250000   136.000000      346.000000           NaN       13.000000   \nmax    2356.000000   137.000000      506.000000           NaN       27.000000   \n\n              Балл  Минимальный балл  \ncount  2356.000000            2356.0  \nmean     49.255093              27.0  \nstd      17.880420               0.0  \nmin       5.000000              27.0  \n25%      33.000000              27.0  \n50%      50.000000              27.0  \n75%      68.000000              27.0  \nmax      96.000000              27.0  ",
      "text/html": "<div>\n<style scoped>\n    .dataframe tbody tr th:only-of-type {\n        vertical-align: middle;\n    }\n\n    .dataframe tbody tr th {\n        vertical-align: top;\n    }\n\n    .dataframe thead th {\n        text-align: right;\n    }\n</style>\n<table border=\"1\" class=\"dataframe\">\n  <thead>\n    <tr style=\"text-align: right;\">\n      <th></th>\n      <th>№</th>\n      <th>№ школы</th>\n      <th>Номер варианта</th>\n      <th>Устная часть</th>\n      <th>Первичный балл</th>\n      <th>Балл</th>\n      <th>Минимальный балл</th>\n    </tr>\n  </thead>\n  <tbody>\n    <tr>\n      <th>count</th>\n      <td>2356.000000</td>\n      <td>2356.000000</td>\n      <td>2356.000000</td>\n      <td>0.0</td>\n      <td>2356.000000</td>\n      <td>2356.000000</td>\n      <td>2356.0</td>\n    </tr>\n    <tr>\n      <th>mean</th>\n      <td>1178.500000</td>\n      <td>132.005518</td>\n      <td>338.273769</td>\n      <td>NaN</td>\n      <td>10.123939</td>\n      <td>49.255093</td>\n      <td>27.0</td>\n    </tr>\n    <tr>\n      <th>std</th>\n      <td>680.262939</td>\n      <td>5.037984</td>\n      <td>53.660878</td>\n      <td>NaN</td>\n      <td>3.820484</td>\n      <td>17.880420</td>\n      <td>0.0</td>\n    </tr>\n    <tr>\n      <th>min</th>\n      <td>1.000000</td>\n      <td>121.000000</td>\n      <td>101.000000</td>\n      <td>NaN</td>\n      <td>1.000000</td>\n      <td>5.000000</td>\n      <td>27.0</td>\n    </tr>\n    <tr>\n      <th>25%</th>\n      <td>589.750000</td>\n      <td>127.000000</td>\n      <td>339.000000</td>\n      <td>NaN</td>\n      <td>7.000000</td>\n      <td>33.000000</td>\n      <td>27.0</td>\n    </tr>\n    <tr>\n      <th>50%</th>\n      <td>1178.500000</td>\n      <td>135.000000</td>\n      <td>342.500000</td>\n      <td>NaN</td>\n      <td>10.000000</td>\n      <td>50.000000</td>\n      <td>27.0</td>\n    </tr>\n    <tr>\n      <th>75%</th>\n      <td>1767.250000</td>\n      <td>136.000000</td>\n      <td>346.000000</td>\n      <td>NaN</td>\n      <td>13.000000</td>\n      <td>68.000000</td>\n      <td>27.0</td>\n    </tr>\n    <tr>\n      <th>max</th>\n      <td>2356.000000</td>\n      <td>137.000000</td>\n      <td>506.000000</td>\n      <td>NaN</td>\n      <td>27.000000</td>\n      <td>96.000000</td>\n      <td>27.0</td>\n    </tr>\n  </tbody>\n</table>\n</div>"
     },
     "execution_count": 7,
     "metadata": {},
     "output_type": "execute_result"
    }
   ],
   "source": [
    "df.describe()"
   ],
   "metadata": {
    "collapsed": false,
    "ExecuteTime": {
     "end_time": "2023-10-25T21:45:02.379580300Z",
     "start_time": "2023-10-25T21:45:02.231585500Z"
    }
   },
   "id": "f81532654909b7b"
  },
  {
   "cell_type": "markdown",
   "source": [
    "3. Найдите процент учащихся, выполнивших работу ниже среднего."
   ],
   "metadata": {
    "collapsed": false
   },
   "id": "f6e41ace2a24db78"
  },
  {
   "cell_type": "code",
   "execution_count": 8,
   "outputs": [
    {
     "name": "stdout",
     "output_type": "stream",
     "text": [
      "48.00509337860781\n"
     ]
    }
   ],
   "source": [
    "mean = df['Балл'].mean()\n",
    "df_underav = df[df['Балл'] < mean]\n",
    "percentage_underav = df_underav.shape[0] / df.shape[0] * 100\n",
    "print(percentage_underav)"
   ],
   "metadata": {
    "collapsed": false,
    "ExecuteTime": {
     "end_time": "2023-10-25T21:45:02.380579600Z",
     "start_time": "2023-10-25T21:45:02.293581400Z"
    }
   },
   "id": "76b6a01616e84f00"
  },
  {
   "cell_type": "markdown",
   "source": [
    "4. Найти процент учащихся не сдавших экзамен."
   ],
   "metadata": {
    "collapsed": false
   },
   "id": "d9b58335ebd4c526"
  },
  {
   "cell_type": "code",
   "execution_count": 9,
   "outputs": [
    {
     "name": "stdout",
     "output_type": "stream",
     "text": [
      "9.210526315789473\n"
     ]
    }
   ],
   "source": [
    "df_failure = df[df['Балл'] < df['Минимальный балл']]\n",
    "percentage_failure = df_failure.shape[0] / df.shape[0] * 100\n",
    "print(percentage_failure)"
   ],
   "metadata": {
    "collapsed": false,
    "ExecuteTime": {
     "end_time": "2023-10-25T21:45:02.381579800Z",
     "start_time": "2023-10-25T21:45:02.307582800Z"
    }
   },
   "id": "5a955d4dafe701af"
  },
  {
   "cell_type": "markdown",
   "source": [
    "5. Постройте круговую диаграмму, показывающую распределение сдавших и не сдавших экзамен."
   ],
   "metadata": {
    "collapsed": false
   },
   "id": "e05ad5169165b7fb"
  },
  {
   "cell_type": "code",
   "execution_count": 10,
   "outputs": [
    {
     "data": {
      "text/plain": "Text(0.5, 1.0, 'Распределение сдавших и не сдавших экзамен')"
     },
     "execution_count": 10,
     "metadata": {},
     "output_type": "execute_result"
    },
    {
     "data": {
      "text/plain": "<Figure size 640x480 with 1 Axes>",
      "image/png": "[encoded data removed]"
     },
     "metadata": {},
     "output_type": "display_data"
    }
   ],
   "source": [
    "df_success = [100 - percentage_failure, percentage_failure]\n",
    "\n",
    "plt.pie(df_success, labels=['Сдал', 'Не сдал'], autopct='%1.1f%%')\n",
    "plt.title('Распределение сдавших и не сдавших экзамен')"
   ],
   "metadata": {
    "collapsed": false,
    "ExecuteTime": {
     "end_time": "2023-10-25T21:45:03.026673900Z",
     "start_time": "2023-10-25T21:45:02.321580300Z"
    }
   },
   "id": "5dc4c1e03f22f670"
  },
  {
   "cell_type": "markdown",
   "source": [
    "6. Постройте ядерную оценку плотности распределению баллов за экзамен."
   ],
   "metadata": {
    "collapsed": false
   },
   "id": "63abd201ec4f4d90"
  },
  {
   "cell_type": "code",
   "execution_count": 11,
   "outputs": [
    {
     "data": {
      "text/plain": "<Axes: xlabel='Балл', ylabel='Density'>"
     },
     "execution_count": 11,
     "metadata": {},
     "output_type": "execute_result"
    },
    {
     "data": {
      "text/plain": "<Figure size 640x480 with 1 Axes>",
      "image/png": "[encoded data removed]"
     },
     "metadata": {},
     "output_type": "display_data"
    }
   ],
   "source": [
    "seaborn.kdeplot(df['Балл'])"
   ],
   "metadata": {
    "collapsed": false,
    "ExecuteTime": {
     "end_time": "2023-10-25T21:45:03.474927100Z",
     "start_time": "2023-10-25T21:45:02.854580100Z"
    }
   },
   "id": "a75031fb4117fe73"
  },
  {
   "cell_type": "markdown",
   "source": [
    "7. Найдите процентное соотношение учащихся, сдавших экзамен на «отлично», «хорошо», «удовлетворительно», «неудовлетворительно»."
   ],
   "metadata": {
    "collapsed": false
   },
   "id": "302ce8d99f4ad64a"
  },
  {
   "cell_type": "code",
   "execution_count": 12,
   "outputs": [
    {
     "name": "stdout",
     "output_type": "stream",
     "text": [
      "           Балл\n",
      "Балл           \n",
      "2     74.405772\n",
      "3     22.028862\n",
      "4      3.353141\n",
      "5      0.212224\n"
     ]
    }
   ],
   "source": [
    "def replace_func(x):\n",
    "  if x < 63:\n",
    "    return 2\n",
    "  elif x > 62 and x < 77:\n",
    "    return 3\n",
    "  elif x > 76 and x < 91:\n",
    "    return 4\n",
    "  else:\n",
    "    return 5\n",
    "\n",
    "def output_score():\n",
    "  df[f'Балл'] = df.loc[:, 'Балл']\n",
    "  df[f'Балл'] = df[f'Балл'].apply(replace_func)\n",
    "  result = df.groupby([f'Балл']).agg({f'Балл': 'count'}) / df.shape[0] * 100\n",
    "  return result\n",
    "\n",
    "print(output_score())"
   ],
   "metadata": {
    "collapsed": false,
    "ExecuteTime": {
     "end_time": "2023-10-25T21:45:03.687927Z",
     "start_time": "2023-10-25T21:45:03.459927200Z"
    }
   },
   "id": "1edaf056e6cd90b0"
  },
  {
   "cell_type": "markdown",
   "source": [
    "8. Какое процентное соотношение юношей и девушек писало данный экзамен?"
   ],
   "metadata": {
    "collapsed": false
   },
   "id": "b7ff74f806922f2a"
  },
  {
   "cell_type": "code",
   "execution_count": 13,
   "outputs": [
    {
     "data": {
      "text/plain": "           Пол\nПол           \nЖ    52.843803\nМ    47.156197",
      "text/html": "<div>\n<style scoped>\n    .dataframe tbody tr th:only-of-type {\n        vertical-align: middle;\n    }\n\n    .dataframe tbody tr th {\n        vertical-align: top;\n    }\n\n    .dataframe thead th {\n        text-align: right;\n    }\n</style>\n<table border=\"1\" class=\"dataframe\">\n  <thead>\n    <tr style=\"text-align: right;\">\n      <th></th>\n      <th>Пол</th>\n    </tr>\n    <tr>\n      <th>Пол</th>\n      <th></th>\n    </tr>\n  </thead>\n  <tbody>\n    <tr>\n      <th>Ж</th>\n      <td>52.843803</td>\n    </tr>\n    <tr>\n      <th>М</th>\n      <td>47.156197</td>\n    </tr>\n  </tbody>\n</table>\n</div>"
     },
     "execution_count": 13,
     "metadata": {},
     "output_type": "execute_result"
    }
   ],
   "source": [
    "df.groupby(['Пол']).agg({'Пол': 'count'}) / df.shape[0] * 100"
   ],
   "metadata": {
    "collapsed": false,
    "ExecuteTime": {
     "end_time": "2023-10-25T21:45:03.723926400Z",
     "start_time": "2023-10-25T21:45:03.510927400Z"
    }
   },
   "id": "49d9e67744f2878a"
  },
  {
   "cell_type": "markdown",
   "source": [
    "9. Сколько школ принимало участие в экзамене?"
   ],
   "metadata": {
    "collapsed": false
   },
   "id": "a3bde492f10869ba"
  },
  {
   "cell_type": "code",
   "execution_count": 14,
   "outputs": [
    {
     "data": {
      "text/plain": "17"
     },
     "execution_count": 14,
     "metadata": {},
     "output_type": "execute_result"
    }
   ],
   "source": [
    "len(df.groupby(['№ школы']).agg({'№ школы': 'count'})['№ школы'])"
   ],
   "metadata": {
    "collapsed": false,
    "ExecuteTime": {
     "end_time": "2023-10-25T21:45:03.725926Z",
     "start_time": "2023-10-25T21:45:03.540928Z"
    }
   },
   "id": "d99ceac629f1b6c9"
  },
  {
   "cell_type": "markdown",
   "source": [
    "10. Сколько всего заданий с кратким ответом? С развернутым ответом?"
   ],
   "metadata": {
    "collapsed": false
   },
   "id": "f8cbf221f542532d"
  },
  {
   "cell_type": "code",
   "execution_count": 15,
   "outputs": [
    {
     "name": "stdout",
     "output_type": "stream",
     "text": [
      "Задания с кратким ответом: 12\n",
      "Задания с развёрнутым ответом: 7\n"
     ]
    }
   ],
   "source": [
    "shortAns = df.loc[0, 'Задания с кратким ответом']\n",
    "longAns = df.loc[0, 'Задания с развёрнутым ответом']\n",
    "\n",
    "print('Задания с кратким ответом:', len(shortAns))\n",
    "print('Задания с развёрнутым ответом:', int(len(longAns)/4))"
   ],
   "metadata": {
    "collapsed": false,
    "ExecuteTime": {
     "end_time": "2023-10-25T21:45:03.725926Z",
     "start_time": "2023-10-25T21:45:03.572927800Z"
    }
   },
   "id": "6f2e5ec778ed5c23"
  },
  {
   "cell_type": "markdown",
   "source": [
    "11. Пусть задания с кратким ответом будут задания типа В. Соответственно всего по экзамену вопросов класса В: В, ..., Вк. Посчитайте процент выполненных и невыполненных заданий по каждому вопросу класса В."
   ],
   "metadata": {
    "collapsed": false
   },
   "id": "8f73a36ccfbb2694"
  },
  {
   "cell_type": "code",
   "execution_count": 16,
   "outputs": [
    {
     "name": "stderr",
     "output_type": "stream",
     "text": [
      "C:\\Users\\Alexander\\AppData\\Local\\Temp\\ipykernel_12376\\4163962286.py:7: FutureWarning: Setting an item of incompatible dtype is deprecated and will raise in a future error of pandas. Value '-' has dtype incompatible with int64, please explicitly cast to a compatible dtype first.\n",
      "  df.loc[i, f'B{j+1}'] = shortAns[j]\n",
      "C:\\Users\\Alexander\\AppData\\Local\\Temp\\ipykernel_12376\\4163962286.py:7: FutureWarning: Setting an item of incompatible dtype is deprecated and will raise in a future error of pandas. Value '+' has dtype incompatible with int64, please explicitly cast to a compatible dtype first.\n",
      "  df.loc[i, f'B{j+1}'] = shortAns[j]\n"
     ]
    },
    {
     "name": "stdout",
     "output_type": "stream",
     "text": [
      "B1           B1\n",
      "B1          \n",
      "+   89.26146\n",
      "-   10.73854\n",
      "B2           B2\n",
      "B2          \n",
      "+   95.33107\n",
      "-    4.66893\n",
      "B3           B3\n",
      "B3          \n",
      "+   92.78438\n",
      "-    7.21562\n",
      "B4            B4\n",
      "B4           \n",
      "+   91.001698\n",
      "-    8.998302\n",
      "B5            B5\n",
      "B5           \n",
      "+   88.497453\n",
      "-   11.502547\n",
      "B6            B6\n",
      "B6           \n",
      "+   73.174873\n",
      "-   26.825127\n",
      "B7            B7\n",
      "B7           \n",
      "+   37.478778\n",
      "-   62.521222\n",
      "B8            B8\n",
      "B8           \n",
      "+   47.835314\n",
      "-   52.164686\n",
      "B9            B9\n",
      "B9           \n",
      "+   91.850594\n",
      "-    8.149406\n",
      "B10           B10\n",
      "B10          \n",
      "+    71.47708\n",
      "-    28.52292\n",
      "B11            B11\n",
      "B11           \n",
      "+    59.252971\n",
      "-    40.747029\n",
      "B12            B12\n",
      "B12           \n",
      "+    46.222411\n",
      "-    53.777589\n"
     ]
    }
   ],
   "source": [
    "for i in range(len(shortAns)):\n",
    "  df.insert(len(df.columns), f'B{i+1}', 0)\n",
    "\n",
    "for i, _ in df.iterrows():\n",
    "  shortAns = df.loc[i, 'Задания с кратким ответом']\n",
    "  for j in range(len(shortAns)):\n",
    "    df.loc[i, f'B{j+1}'] = shortAns[j]\n",
    "\n",
    "cols = df.loc[:, 'B1':'B12'].columns\n",
    "for col in cols:\n",
    "  print(col, df.groupby([col]).agg({col: 'count'}) / df.shape[0] * 100)"
   ],
   "metadata": {
    "collapsed": false,
    "ExecuteTime": {
     "end_time": "2023-10-25T21:45:08.444919300Z",
     "start_time": "2023-10-25T21:45:03.582927800Z"
    }
   },
   "id": "2e71c1adb98b35af"
  },
  {
   "cell_type": "markdown",
   "source": [
    "12. Аналогично и с типом С (ответы с развернутым ответом)"
   ],
   "metadata": {
    "collapsed": false
   },
   "id": "a5039110d2c68cf6"
  },
  {
   "cell_type": "code",
   "execution_count": 17,
   "outputs": [
    {
     "name": "stderr",
     "output_type": "stream",
     "text": [
      "C:\\Users\\Alexander\\AppData\\Local\\Temp\\ipykernel_12376\\1291139516.py:7: FutureWarning: Setting an item of incompatible dtype is deprecated and will raise in a future error of pandas. Value '0' has dtype incompatible with int64, please explicitly cast to a compatible dtype first.\n",
      "  df.loc[i, f'C{counter+1}'] = longAns[j]\n"
     ]
    },
    {
     "name": "stdout",
     "output_type": "stream",
     "text": [
      "C1            C1\n",
      "C1           \n",
      "0   66.086587\n",
      "1    7.767402\n",
      "2   26.146010\n",
      "C2            C2\n",
      "C2           \n",
      "0   84.125637\n",
      "1    8.404075\n",
      "2    7.470289\n",
      "C3        C3\n",
      "C3       \n",
      "0   100.0\n",
      "C4        C4\n",
      "C4       \n",
      "0   100.0\n",
      "C5        C5\n",
      "C5       \n",
      "0   100.0\n",
      "C6        C6\n",
      "C6       \n",
      "0   100.0\n",
      "C7        C7\n",
      "C7       \n",
      "0   100.0\n"
     ]
    }
   ],
   "source": [
    "for i in range(int(len(longAns)/4)):\n",
    "  df.insert(len(df.columns), f'C{i+1}', 0)\n",
    "for i, _ in df.iterrows():\n",
    "  longAns = df.loc[i, 'Задания с развёрнутым ответом']\n",
    "  for j, counter in zip(range(0, int(len(longAns)/4), 4), range(int(len(longAns)/4))):\n",
    "    # print(j)\n",
    "    df.loc[i, f'C{counter+1}'] = longAns[j]\n",
    "    # print(longAns[j])\n",
    "cols = df.loc[:, 'C1':'C7'].columns\n",
    "for col in cols:\n",
    "  print(col, df.groupby([col]).agg({col: 'count'}) / df.shape[0] * 100)"
   ],
   "metadata": {
    "collapsed": false,
    "ExecuteTime": {
     "end_time": "2023-10-25T21:45:09.575958100Z",
     "start_time": "2023-10-25T21:45:08.444919300Z"
    }
   },
   "id": "90763b6d97e6cd8"
  },
  {
   "cell_type": "markdown",
   "source": [
    "13. Сделайте анализ по двум школам:\n",
    "I. по всем выполненным заданиям типа В\n",
    "II. по заданиям типа С больше 50%\n",
    "III. по среднему баллу юношей и девушек"
   ],
   "metadata": {
    "collapsed": false
   },
   "id": "6a93f00496413a4d"
  },
  {
   "cell_type": "code",
   "execution_count": 20,
   "outputs": [
    {
     "name": "stdout",
     "output_type": "stream",
     "text": [
      "Школа 1: Всего баллов по заданиям типа В: 74\n",
      "Школа 2: Всего баллов по заданиям типа В: 240\n",
      "Школа 1: Задания типа С (больше 50%): 0 из 35\n",
      "Школа 2: Задания типа С (больше 50%): 0 из 113\n",
      "Средние баллы по полу в школе 1:\n",
      "Пол\n",
      "Ж    2.043478\n",
      "М    2.250000\n",
      "Name: Балл, dtype: float64\n",
      "Средние баллы по полу в школе 2:\n",
      "Пол\n",
      "Ж    2.132353\n",
      "М    2.111111\n",
      "Name: Балл, dtype: float64\n"
     ]
    }
   ],
   "source": [
    "# Разделение данных по школам\n",
    "school1_data = df[df['№ школы'] == 124]\n",
    "school2_data = df[df['№ школы'] == 128]\n",
    "\n",
    "# I. Анализ выполненных заданий типа В для обеих школ\n",
    "school1_total_V = school1_data['Балл'].sum()\n",
    "school2_total_V = school2_data['Балл'].sum()\n",
    "print(\"Школа 1: Всего баллов по заданиям типа В:\", school1_total_V)\n",
    "print(\"Школа 2: Всего баллов по заданиям типа В:\", school2_total_V)\n",
    "\n",
    "# II. Анализ выполненных заданий типа С, где более 50% заданий с развёрнутым ответом, для обеих школ\n",
    "school1_C_data = school1_data[school1_data['Балл'] > school1_data['Минимальный балл'] / 2]\n",
    "school2_C_data = school2_data[school2_data['Балл'] > school2_data['Минимальный балл'] / 2]\n",
    "print(\"Школа 1: Задания типа С (больше 50%):\", school1_C_data.shape[0], \"из\", school1_data.shape[0])\n",
    "print(\"Школа 2: Задания типа С (больше 50%):\", school2_C_data.shape[0], \"из\", school2_data.shape[0])\n",
    "\n",
    "# III. Анализ средних баллов между юношами и девушками в обеих школах\n",
    "school1_mean_scores = school1_data.groupby('Пол')['Балл'].mean()\n",
    "school2_mean_scores = school2_data.groupby('Пол')['Балл'].mean()\n",
    "print(\"Средние баллы по полу в школе 1:\")\n",
    "print(school1_mean_scores)\n",
    "print(\"Средние баллы по полу в школе 2:\")\n",
    "print(school2_mean_scores)"
   ],
   "metadata": {
    "collapsed": false,
    "ExecuteTime": {
     "end_time": "2023-10-25T21:48:00.728417700Z",
     "start_time": "2023-10-25T21:48:00.660413300Z"
    }
   },
   "id": "17c8f6fd5139ec8e"
  },
  {
   "cell_type": "markdown",
   "source": [
    "14. Для каждого задания добавьте соответствующий раздел в ноутбук и текстовые пояснения."
   ],
   "metadata": {
    "collapsed": false
   },
   "id": "5620db7caa6bba58"
  }
 ],
 "metadata": {
  "kernelspec": {
   "display_name": "Python 3",
   "language": "python",
   "name": "python3"
  },
  "language_info": {
   "codemirror_mode": {
    "name": "ipython",
    "version": 2
   },
   "file_extension": ".py",
   "mimetype": "text/x-python",
   "name": "python",
   "nbconvert_exporter": "python",
   "pygments_lexer": "ipython2",
   "version": "2.7.6"
  }
 },
 "nbformat": 4,
 "nbformat_minor": 5
}
